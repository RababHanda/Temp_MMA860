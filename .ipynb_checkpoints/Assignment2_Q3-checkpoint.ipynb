{
 "cells": [
  {
   "cell_type": "markdown",
   "id": "8f435cb9-8b3f-4d20-9d46-dd69e7a34aca",
   "metadata": {},
   "source": [
    "### Question 3"
   ]
  },
  {
   "cell_type": "code",
   "execution_count": 190,
   "id": "5152c935-bd55-4e35-a99b-ed51d0e3c74b",
   "metadata": {},
   "outputs": [],
   "source": [
    "#importing libraries\n",
    "import pandas as pd\n",
    "import numpy as np\n",
    "from sklearn.linear_model import LinearRegression\n",
    "import statsmodels.api as sm\n",
    "from statsmodels.formula.api import ols\n",
    "from sklearn.metrics import mean_squared_error\n",
    "from sklearn.metrics import mean_absolute_error\n",
    "from numpy import sqrt\n",
    "from sklearn.preprocessing import StandardScaler\n",
    "import matplotlib.pyplot as plt\n",
    "from statsmodels.stats.diagnostic import het_breuschpagan"
   ]
  },
  {
   "cell_type": "code",
   "execution_count": 192,
   "id": "fe313d5f-8050-4ab0-9ed9-beb391fbd5f8",
   "metadata": {},
   "outputs": [
    {
     "name": "stdout",
     "output_type": "stream",
     "text": [
      "<class 'pandas.core.frame.DataFrame'>\n",
      "RangeIndex: 100 entries, 0 to 99\n",
      "Data columns (total 7 columns):\n",
      " #   Column          Non-Null Count  Dtype  \n",
      "---  ------          --------------  -----  \n",
      " 0   Rating          100 non-null    float64\n",
      " 1   Price           100 non-null    float64\n",
      " 2   Alcohol         100 non-null    float64\n",
      " 3   Residual_Sugar  100 non-null    float64\n",
      " 4   Sulphates       100 non-null    float64\n",
      " 5   pH              100 non-null    float64\n",
      " 6   Country         100 non-null    object \n",
      "dtypes: float64(6), object(1)\n",
      "memory usage: 5.6+ KB\n"
     ]
    },
    {
     "data": {
      "text/html": [
       "<div>\n",
       "<style scoped>\n",
       "    .dataframe tbody tr th:only-of-type {\n",
       "        vertical-align: middle;\n",
       "    }\n",
       "\n",
       "    .dataframe tbody tr th {\n",
       "        vertical-align: top;\n",
       "    }\n",
       "\n",
       "    .dataframe thead th {\n",
       "        text-align: right;\n",
       "    }\n",
       "</style>\n",
       "<table border=\"1\" class=\"dataframe\">\n",
       "  <thead>\n",
       "    <tr style=\"text-align: right;\">\n",
       "      <th></th>\n",
       "      <th>Rating</th>\n",
       "      <th>Price</th>\n",
       "      <th>Alcohol</th>\n",
       "      <th>Residual_Sugar</th>\n",
       "      <th>Sulphates</th>\n",
       "      <th>pH</th>\n",
       "      <th>Country</th>\n",
       "    </tr>\n",
       "  </thead>\n",
       "  <tbody>\n",
       "    <tr>\n",
       "      <th>0</th>\n",
       "      <td>66.096282</td>\n",
       "      <td>42.357853</td>\n",
       "      <td>12.884478</td>\n",
       "      <td>1.723964</td>\n",
       "      <td>1.822362</td>\n",
       "      <td>3.094826</td>\n",
       "      <td>Italy</td>\n",
       "    </tr>\n",
       "    <tr>\n",
       "      <th>1</th>\n",
       "      <td>26.297780</td>\n",
       "      <td>18.072619</td>\n",
       "      <td>10.788513</td>\n",
       "      <td>2.717204</td>\n",
       "      <td>1.258339</td>\n",
       "      <td>3.687788</td>\n",
       "      <td>Canada</td>\n",
       "    </tr>\n",
       "    <tr>\n",
       "      <th>2</th>\n",
       "      <td>57.554497</td>\n",
       "      <td>27.331947</td>\n",
       "      <td>9.836948</td>\n",
       "      <td>1.412335</td>\n",
       "      <td>0.023512</td>\n",
       "      <td>3.463087</td>\n",
       "      <td>Canada</td>\n",
       "    </tr>\n",
       "    <tr>\n",
       "      <th>3</th>\n",
       "      <td>46.556400</td>\n",
       "      <td>22.751343</td>\n",
       "      <td>12.022274</td>\n",
       "      <td>3.068457</td>\n",
       "      <td>1.799140</td>\n",
       "      <td>1.544849</td>\n",
       "      <td>Italy</td>\n",
       "    </tr>\n",
       "    <tr>\n",
       "      <th>4</th>\n",
       "      <td>49.405032</td>\n",
       "      <td>14.399297</td>\n",
       "      <td>11.442785</td>\n",
       "      <td>2.994345</td>\n",
       "      <td>1.062184</td>\n",
       "      <td>3.032852</td>\n",
       "      <td>France</td>\n",
       "    </tr>\n",
       "  </tbody>\n",
       "</table>\n",
       "</div>"
      ],
      "text/plain": [
       "      Rating      Price    Alcohol  Residual_Sugar  Sulphates        pH  \\\n",
       "0  66.096282  42.357853  12.884478        1.723964   1.822362  3.094826   \n",
       "1  26.297780  18.072619  10.788513        2.717204   1.258339  3.687788   \n",
       "2  57.554497  27.331947   9.836948        1.412335   0.023512  3.463087   \n",
       "3  46.556400  22.751343  12.022274        3.068457   1.799140  1.544849   \n",
       "4  49.405032  14.399297  11.442785        2.994345   1.062184  3.032852   \n",
       "\n",
       "  Country  \n",
       "0   Italy  \n",
       "1  Canada  \n",
       "2  Canada  \n",
       "3   Italy  \n",
       "4  France  "
      ]
     },
     "execution_count": 192,
     "metadata": {},
     "output_type": "execute_result"
    }
   ],
   "source": [
    "# define file path\n",
    "file_path = '860 Assignment 2 Data.xlsx'\n",
    "# load data from excel file\n",
    "df_wine = pd.read_excel(file_path, sheet_name='Wine')\n",
    "# drop obs column \n",
    "df_wine = df_wine.drop(columns='Obs')\n",
    "# check dataset\n",
    "df_wine.info()\n",
    "df_wine.head()"
   ]
  },
  {
   "cell_type": "code",
   "execution_count": 194,
   "id": "f32da8d2-9e0f-4940-b614-435441d8d96d",
   "metadata": {},
   "outputs": [
    {
     "name": "stdout",
     "output_type": "stream",
     "text": [
      "Rating            0\n",
      "Price             0\n",
      "Alcohol           0\n",
      "Residual_Sugar    0\n",
      "Sulphates         0\n",
      "pH                0\n",
      "Country           0\n",
      "dtype: int64\n"
     ]
    }
   ],
   "source": [
    "# check missing value\n",
    "missing_values = df_wine.isnull().sum()\n",
    "print(missing_values)\n"
   ]
  },
  {
   "cell_type": "code",
   "execution_count": 196,
   "id": "f780a8f8-41d5-486e-ac3c-dc7a141e7b7d",
   "metadata": {},
   "outputs": [
    {
     "name": "stdout",
     "output_type": "stream",
     "text": [
      "Rating            float64\n",
      "Price             float64\n",
      "Alcohol           float64\n",
      "Residual_Sugar    float64\n",
      "Sulphates         float64\n",
      "pH                float64\n",
      "Country_Canada      int64\n",
      "Country_France      int64\n",
      "Country_Italy       int64\n",
      "Country_US          int64\n",
      "dtype: object\n"
     ]
    }
   ],
   "source": [
    "# convert country to dummy variables\n",
    "df_wine = pd.get_dummies(df_wine, columns=[\"Country\"], drop_first=False,dtype=int)\n",
    "\n",
    "# Check the data type\n",
    "print(df_wine.dtypes)\n"
   ]
  },
  {
   "cell_type": "code",
   "execution_count": 198,
   "id": "b7d09fa9-5a3f-4fcc-a046-dc849a55bbed",
   "metadata": {},
   "outputs": [
    {
     "name": "stdout",
     "output_type": "stream",
     "text": [
      "                            OLS Regression Results                            \n",
      "==============================================================================\n",
      "Dep. Variable:                 Rating   R-squared:                       0.876\n",
      "Model:                            OLS   Adj. R-squared:                  0.865\n",
      "Method:                 Least Squares   F-statistic:                     80.52\n",
      "Date:                Wed, 19 Mar 2025   Prob (F-statistic):           6.30e-38\n",
      "Time:                        22:31:02   Log-Likelihood:                -318.82\n",
      "No. Observations:                 100   AIC:                             655.6\n",
      "Df Residuals:                      91   BIC:                             679.1\n",
      "Df Model:                           8                                         \n",
      "Covariance Type:            nonrobust                                         \n",
      "==================================================================================\n",
      "                     coef    std err          t      P>|t|      [0.025      0.975]\n",
      "----------------------------------------------------------------------------------\n",
      "Intercept          0.8959      5.387      0.166      0.868      -9.804      11.596\n",
      "Price              0.9357      0.052     17.931      0.000       0.832       1.039\n",
      "Alcohol            3.4287      0.480      7.143      0.000       2.475       4.382\n",
      "Residual_Sugar     0.1439      0.669      0.215      0.830      -1.186       1.474\n",
      "Sulphates        -13.8671      1.119    -12.388      0.000     -16.091     -11.644\n",
      "pH                -0.8792      1.117     -0.787      0.433      -3.097       1.339\n",
      "Country_Canada    -4.7022      1.523     -3.086      0.003      -7.728      -1.676\n",
      "Country_France     7.2555      2.083      3.482      0.001       3.117      11.394\n",
      "Country_Italy      4.0834      1.606      2.542      0.013       0.893       7.274\n",
      "Country_US        -5.7408      1.799     -3.190      0.002      -9.315      -2.166\n",
      "==============================================================================\n",
      "Omnibus:                        1.787   Durbin-Watson:                   1.890\n",
      "Prob(Omnibus):                  0.409   Jarque-Bera (JB):                1.291\n",
      "Skew:                          -0.256   Prob(JB):                        0.524\n",
      "Kurtosis:                       3.216   Cond. No.                     2.70e+17\n",
      "==============================================================================\n",
      "\n",
      "Notes:\n",
      "[1] Standard Errors assume that the covariance matrix of the errors is correctly specified.\n",
      "[2] The smallest eigenvalue is 1.33e-30. This might indicate that there are\n",
      "strong multicollinearity problems or that the design matrix is singular.\n"
     ]
    }
   ],
   "source": [
    "\n",
    "# Fit the ols regression model.\n",
    "model = ols('Rating ~ Price + Alcohol + Residual_Sugar + Sulphates + pH + Country_Canada+Country_France+Country_Italy+Country_US', data=df_wine).fit()\n",
    "\n",
    "# Display the model summary.\n",
    "print(model.summary())"
   ]
  },
  {
   "cell_type": "code",
   "execution_count": 200,
   "id": "3389bdec-7ab1-4c38-9008-1694164d2981",
   "metadata": {},
   "outputs": [],
   "source": [
    "# linear regression model\n",
    "\n",
    "X_train =  df_wine.drop(columns=[\"Rating\"]).values\n",
    "y_train = df_wine[\"Rating\"].values\n",
    "reg = LinearRegression().fit(X_train,y_train)\n"
   ]
  },
  {
   "cell_type": "code",
   "execution_count": 202,
   "id": "fb7483a8-fb13-48ea-838e-3c1178fbd59f",
   "metadata": {},
   "outputs": [
    {
     "name": "stdout",
     "output_type": "stream",
     "text": [
      "R^2: 0.8762171173632093\n",
      "Root Mean Squared Error: 5.866379558465112\n",
      "Mean Absolute Error: 4.78373613085975\n"
     ]
    }
   ],
   "source": [
    "print(\"R^2:\",reg.score(X_train,y_train))\n",
    "print(\"Root Mean Squared Error:\",sqrt(\n",
    "    mean_squared_error(y_train,reg.predict(X_train))))\n",
    "print(\"Mean Absolute Error:\",mean_absolute_error(\n",
    "    y_train,reg.predict(X_train)))\n"
   ]
  },
  {
   "cell_type": "code",
   "execution_count": 204,
   "id": "4033973b-5337-46db-afff-6b4a1bad46fa",
   "metadata": {},
   "outputs": [
    {
     "name": "stdout",
     "output_type": "stream",
     "text": [
      "Intercept: 1.1198558588481191\n"
     ]
    }
   ],
   "source": [
    "print(\"Intercept:\",reg.intercept_)"
   ]
  },
  {
   "cell_type": "code",
   "execution_count": 206,
   "id": "0ffad607-b69b-46ea-87ea-1a480a71802b",
   "metadata": {},
   "outputs": [
    {
     "name": "stdout",
     "output_type": "stream",
     "text": [
      "[  0.93568327   3.42868631   0.14392057 -13.86710075  -0.87922252\n",
      "  -4.92621461   7.03155573   3.85940491  -5.96474603]\n"
     ]
    }
   ],
   "source": [
    "print (reg.coef_)"
   ]
  },
  {
   "cell_type": "markdown",
   "id": "4e12d210-6268-4cf4-9924-84e64ea8be52",
   "metadata": {},
   "source": [
    "#### Question 3.a"
   ]
  },
  {
   "cell_type": "code",
   "execution_count": 174,
   "id": "15191a02-2181-40f0-96a0-764663483fbd",
   "metadata": {},
   "outputs": [
    {
     "name": "stdout",
     "output_type": "stream",
     "text": [
      "\n",
      "Regression Equation:\n",
      "Rating = 1.120 + 0.936*Price + 3.429*Alcohol + 0.144*Residual_Sugar - 13.867*Sulphates - 0.879*pH - 4.926*Country_Canada + 7.032*Country_France + 3.859*Country_Italy - 5.965*Country_US\n"
     ]
    }
   ],
   "source": [
    "fields=df_wine.drop(columns=[\"Rating\"]).columns.tolist()\n",
    "equation = f\"Rating = {reg.intercept_:.3f}\"\n",
    "for coef, feature in zip(reg.coef_, fields):\n",
    "    if coef >= 0:\n",
    "        equation += f\" + {coef:.3f}*{feature}\"\n",
    "    else:\n",
    "        equation += f\" - {abs(coef):.3f}*{feature}\"\n",
    "\n",
    "print(\"\\nRegression Equation:\")\n",
    "print(equation)"
   ]
  },
  {
   "cell_type": "markdown",
   "id": "f37c0179-5f65-4df6-a5d9-b3d003e4a6b5",
   "metadata": {},
   "source": [
    "#### Question 3.b\n",
    "\n",
    "Answer: the data does not appear to be heteroskedastic. When we plot the residuals versus the fitted values, the spread of residuals appears roughly constant across all levels of fitted values (no funnel shape is observed). Moreover, a Breusch-Pagan test yielded a p-value well above 0.05 ( 0.446), which means we fail to reject the null hypothesis of homoskedasticity. Therefore, there is no strong evidence of heteroskedasticity in the data."
   ]
  },
  {
   "cell_type": "code",
   "execution_count": 176,
   "id": "38a89382-e344-4e7a-97b6-02a962c556a2",
   "metadata": {},
   "outputs": [],
   "source": [
    "residuals= y_train - reg.predict(X_train)"
   ]
  },
  {
   "cell_type": "code",
   "execution_count": 178,
   "id": "9a67b60d-19ab-4dc7-ab21-cea3e47c4ed7",
   "metadata": {},
   "outputs": [
    {
     "data": {
      "image/png": "[encoded data removed]",
      "text/plain": [
       "<Figure size 640x480 with 1 Axes>"
      ]
     },
     "metadata": {},
     "output_type": "display_data"
    }
   ],
   "source": [
    "%matplotlib inline\n",
    "import matplotlib.pyplot as plt\n",
    "from sklearn.preprocessing import StandardScaler\n",
    "import numpy as np\n",
    "\n",
    "# First we create an array of normalized residuals using a Scikit function\n",
    "scaler = StandardScaler().fit(residuals.reshape(-1,1))\n",
    "norm_residuals = scaler.transform(residuals.reshape(-1,1))\n",
    "\n",
    "# Plot and take the root and absolute values of the norms\n",
    "plt.scatter(reg.predict(X_train),norm_residuals,c='black',s=2)\n",
    "plt.xlabel(\"Fitted Values\")\n",
    "plt.ylabel(\"Standardized Residuals\")\n",
    "plt.show()"
   ]
  },
  {
   "cell_type": "code",
   "execution_count": 212,
   "id": "124af1f0-db9c-46ac-a199-c87b83fa32fb",
   "metadata": {},
   "outputs": [
    {
     "name": "stdout",
     "output_type": "stream",
     "text": [
      "{'LM Statistic': 7.873658119286486, 'LM-Test p-value': 0.5469269899463746, 'F-Statistic': 0.9721742910713963, 'F-Test p-value': 0.4628032669595279}\n"
     ]
    }
   ],
   "source": [
    "residuals=model.resid\n",
    "# Breusch-Pagan test for heteroskedasticity\n",
    "bp = het_breuschpagan(residuals, model.model.exog)\n",
    "measures = ('LM Statistic', 'LM-Test p-value', 'F-Statistic', 'F-Test p-value')\n",
    "print(dict(zip(measures,bp)))"
   ]
  },
  {
   "cell_type": "code",
   "execution_count": 214,
   "id": "b0b72b6c-f6dd-4140-a876-801e208aca43",
   "metadata": {},
   "outputs": [
    {
     "data": {
      "text/html": [
       "<table class=\"simpletable\">\n",
       "<caption>OLS Regression Results</caption>\n",
       "<tr>\n",
       "  <th>Dep. Variable:</th>         <td>Rating</td>      <th>  R-squared:         </th> <td>   0.876</td>\n",
       "</tr>\n",
       "<tr>\n",
       "  <th>Model:</th>                   <td>OLS</td>       <th>  Adj. R-squared:    </th> <td>   0.865</td>\n",
       "</tr>\n",
       "<tr>\n",
       "  <th>Method:</th>             <td>Least Squares</td>  <th>  F-statistic:       </th> <td>   972.7</td>\n",
       "</tr>\n",
       "<tr>\n",
       "  <th>Date:</th>             <td>Wed, 19 Mar 2025</td> <th>  Prob (F-statistic):</th> <td>2.27e-86</td>\n",
       "</tr>\n",
       "<tr>\n",
       "  <th>Time:</th>                 <td>22:32:47</td>     <th>  Log-Likelihood:    </th> <td> -318.82</td>\n",
       "</tr>\n",
       "<tr>\n",
       "  <th>No. Observations:</th>      <td>   100</td>      <th>  AIC:               </th> <td>   655.6</td>\n",
       "</tr>\n",
       "<tr>\n",
       "  <th>Df Residuals:</th>          <td>    91</td>      <th>  BIC:               </th> <td>   679.1</td>\n",
       "</tr>\n",
       "<tr>\n",
       "  <th>Df Model:</th>              <td>     8</td>      <th>                     </th>     <td> </td>   \n",
       "</tr>\n",
       "<tr>\n",
       "  <th>Covariance Type:</th>         <td>HC3</td>       <th>                     </th>     <td> </td>   \n",
       "</tr>\n",
       "</table>\n",
       "<table class=\"simpletable\">\n",
       "<tr>\n",
       "         <td></td>           <th>coef</th>     <th>std err</th>      <th>t</th>      <th>P>|t|</th>  <th>[0.025</th>    <th>0.975]</th>  \n",
       "</tr>\n",
       "<tr>\n",
       "  <th>Intercept</th>      <td>    0.8959</td> <td>    5.024</td> <td>    0.178</td> <td> 0.859</td> <td>   -9.084</td> <td>   10.876</td>\n",
       "</tr>\n",
       "<tr>\n",
       "  <th>Price</th>          <td>    0.9357</td> <td>    0.048</td> <td>   19.555</td> <td> 0.000</td> <td>    0.841</td> <td>    1.031</td>\n",
       "</tr>\n",
       "<tr>\n",
       "  <th>Alcohol</th>        <td>    3.4287</td> <td>    0.424</td> <td>    8.081</td> <td> 0.000</td> <td>    2.586</td> <td>    4.271</td>\n",
       "</tr>\n",
       "<tr>\n",
       "  <th>Residual_Sugar</th> <td>    0.1439</td> <td>    0.759</td> <td>    0.190</td> <td> 0.850</td> <td>   -1.364</td> <td>    1.652</td>\n",
       "</tr>\n",
       "<tr>\n",
       "  <th>Sulphates</th>      <td>  -13.8671</td> <td>    1.196</td> <td>  -11.598</td> <td> 0.000</td> <td>  -16.242</td> <td>  -11.492</td>\n",
       "</tr>\n",
       "<tr>\n",
       "  <th>pH</th>             <td>   -0.8792</td> <td>    1.221</td> <td>   -0.720</td> <td> 0.473</td> <td>   -3.304</td> <td>    1.545</td>\n",
       "</tr>\n",
       "<tr>\n",
       "  <th>Country_Canada</th> <td>   -4.7022</td> <td>    1.534</td> <td>   -3.066</td> <td> 0.003</td> <td>   -7.749</td> <td>   -1.656</td>\n",
       "</tr>\n",
       "<tr>\n",
       "  <th>Country_France</th> <td>    7.2555</td> <td>    1.870</td> <td>    3.880</td> <td> 0.000</td> <td>    3.541</td> <td>   10.970</td>\n",
       "</tr>\n",
       "<tr>\n",
       "  <th>Country_Italy</th>  <td>    4.0834</td> <td>    1.597</td> <td>    2.557</td> <td> 0.012</td> <td>    0.911</td> <td>    7.256</td>\n",
       "</tr>\n",
       "<tr>\n",
       "  <th>Country_US</th>     <td>   -5.7408</td> <td>    1.825</td> <td>   -3.145</td> <td> 0.002</td> <td>   -9.366</td> <td>   -2.115</td>\n",
       "</tr>\n",
       "</table>\n",
       "<table class=\"simpletable\">\n",
       "<tr>\n",
       "  <th>Omnibus:</th>       <td> 1.787</td> <th>  Durbin-Watson:     </th> <td>   1.890</td>\n",
       "</tr>\n",
       "<tr>\n",
       "  <th>Prob(Omnibus):</th> <td> 0.409</td> <th>  Jarque-Bera (JB):  </th> <td>   1.291</td>\n",
       "</tr>\n",
       "<tr>\n",
       "  <th>Skew:</th>          <td>-0.256</td> <th>  Prob(JB):          </th> <td>   0.524</td>\n",
       "</tr>\n",
       "<tr>\n",
       "  <th>Kurtosis:</th>      <td> 3.216</td> <th>  Cond. No.          </th> <td>2.70e+17</td>\n",
       "</tr>\n",
       "</table><br/><br/>Notes:<br/>[1] Standard Errors are heteroscedasticity robust (HC3)<br/>[2] The smallest eigenvalue is 1.33e-30. This might indicate that there are<br/>strong multicollinearity problems or that the design matrix is singular."
      ],
      "text/latex": [
       "\\begin{center}\n",
       "\\begin{tabular}{lclc}\n",
       "\\toprule\n",
       "\\textbf{Dep. Variable:}    &      Rating      & \\textbf{  R-squared:         } &     0.876   \\\\\n",
       "\\textbf{Model:}            &       OLS        & \\textbf{  Adj. R-squared:    } &     0.865   \\\\\n",
       "\\textbf{Method:}           &  Least Squares   & \\textbf{  F-statistic:       } &     972.7   \\\\\n",
       "\\textbf{Date:}             & Wed, 19 Mar 2025 & \\textbf{  Prob (F-statistic):} &  2.27e-86   \\\\\n",
       "\\textbf{Time:}             &     22:32:47     & \\textbf{  Log-Likelihood:    } &   -318.82   \\\\\n",
       "\\textbf{No. Observations:} &         100      & \\textbf{  AIC:               } &     655.6   \\\\\n",
       "\\textbf{Df Residuals:}     &          91      & \\textbf{  BIC:               } &     679.1   \\\\\n",
       "\\textbf{Df Model:}         &           8      & \\textbf{                     } &             \\\\\n",
       "\\textbf{Covariance Type:}  &       HC3        & \\textbf{                     } &             \\\\\n",
       "\\bottomrule\n",
       "\\end{tabular}\n",
       "\\begin{tabular}{lcccccc}\n",
       "                         & \\textbf{coef} & \\textbf{std err} & \\textbf{t} & \\textbf{P$> |$t$|$} & \\textbf{[0.025} & \\textbf{0.975]}  \\\\\n",
       "\\midrule\n",
       "\\textbf{Intercept}       &       0.8959  &        5.024     &     0.178  &         0.859        &       -9.084    &       10.876     \\\\\n",
       "\\textbf{Price}           &       0.9357  &        0.048     &    19.555  &         0.000        &        0.841    &        1.031     \\\\\n",
       "\\textbf{Alcohol}         &       3.4287  &        0.424     &     8.081  &         0.000        &        2.586    &        4.271     \\\\\n",
       "\\textbf{Residual\\_Sugar} &       0.1439  &        0.759     &     0.190  &         0.850        &       -1.364    &        1.652     \\\\\n",
       "\\textbf{Sulphates}       &     -13.8671  &        1.196     &   -11.598  &         0.000        &      -16.242    &      -11.492     \\\\\n",
       "\\textbf{pH}              &      -0.8792  &        1.221     &    -0.720  &         0.473        &       -3.304    &        1.545     \\\\\n",
       "\\textbf{Country\\_Canada} &      -4.7022  &        1.534     &    -3.066  &         0.003        &       -7.749    &       -1.656     \\\\\n",
       "\\textbf{Country\\_France} &       7.2555  &        1.870     &     3.880  &         0.000        &        3.541    &       10.970     \\\\\n",
       "\\textbf{Country\\_Italy}  &       4.0834  &        1.597     &     2.557  &         0.012        &        0.911    &        7.256     \\\\\n",
       "\\textbf{Country\\_US}     &      -5.7408  &        1.825     &    -3.145  &         0.002        &       -9.366    &       -2.115     \\\\\n",
       "\\bottomrule\n",
       "\\end{tabular}\n",
       "\\begin{tabular}{lclc}\n",
       "\\textbf{Omnibus:}       &  1.787 & \\textbf{  Durbin-Watson:     } &    1.890  \\\\\n",
       "\\textbf{Prob(Omnibus):} &  0.409 & \\textbf{  Jarque-Bera (JB):  } &    1.291  \\\\\n",
       "\\textbf{Skew:}          & -0.256 & \\textbf{  Prob(JB):          } &    0.524  \\\\\n",
       "\\textbf{Kurtosis:}      &  3.216 & \\textbf{  Cond. No.          } & 2.70e+17  \\\\\n",
       "\\bottomrule\n",
       "\\end{tabular}\n",
       "%\\caption{OLS Regression Results}\n",
       "\\end{center}\n",
       "\n",
       "Notes: \\newline\n",
       " [1] Standard Errors are heteroscedasticity robust (HC3) \\newline\n",
       " [2] The smallest eigenvalue is 1.33e-30. This might indicate that there are \\newline\n",
       " strong multicollinearity problems or that the design matrix is singular."
      ],
      "text/plain": [
       "<class 'statsmodels.iolib.summary.Summary'>\n",
       "\"\"\"\n",
       "                            OLS Regression Results                            \n",
       "==============================================================================\n",
       "Dep. Variable:                 Rating   R-squared:                       0.876\n",
       "Model:                            OLS   Adj. R-squared:                  0.865\n",
       "Method:                 Least Squares   F-statistic:                     972.7\n",
       "Date:                Wed, 19 Mar 2025   Prob (F-statistic):           2.27e-86\n",
       "Time:                        22:32:47   Log-Likelihood:                -318.82\n",
       "No. Observations:                 100   AIC:                             655.6\n",
       "Df Residuals:                      91   BIC:                             679.1\n",
       "Df Model:                           8                                         \n",
       "Covariance Type:                  HC3                                         \n",
       "==================================================================================\n",
       "                     coef    std err          t      P>|t|      [0.025      0.975]\n",
       "----------------------------------------------------------------------------------\n",
       "Intercept          0.8959      5.024      0.178      0.859      -9.084      10.876\n",
       "Price              0.9357      0.048     19.555      0.000       0.841       1.031\n",
       "Alcohol            3.4287      0.424      8.081      0.000       2.586       4.271\n",
       "Residual_Sugar     0.1439      0.759      0.190      0.850      -1.364       1.652\n",
       "Sulphates        -13.8671      1.196    -11.598      0.000     -16.242     -11.492\n",
       "pH                -0.8792      1.221     -0.720      0.473      -3.304       1.545\n",
       "Country_Canada    -4.7022      1.534     -3.066      0.003      -7.749      -1.656\n",
       "Country_France     7.2555      1.870      3.880      0.000       3.541      10.970\n",
       "Country_Italy      4.0834      1.597      2.557      0.012       0.911       7.256\n",
       "Country_US        -5.7408      1.825     -3.145      0.002      -9.366      -2.115\n",
       "==============================================================================\n",
       "Omnibus:                        1.787   Durbin-Watson:                   1.890\n",
       "Prob(Omnibus):                  0.409   Jarque-Bera (JB):                1.291\n",
       "Skew:                          -0.256   Prob(JB):                        0.524\n",
       "Kurtosis:                       3.216   Cond. No.                     2.70e+17\n",
       "==============================================================================\n",
       "\n",
       "Notes:\n",
       "[1] Standard Errors are heteroscedasticity robust (HC3)\n",
       "[2] The smallest eigenvalue is 1.33e-30. This might indicate that there are\n",
       "strong multicollinearity problems or that the design matrix is singular.\n",
       "\"\"\""
      ]
     },
     "execution_count": 214,
     "metadata": {},
     "output_type": "execute_result"
    }
   ],
   "source": [
    "corrected_model = model.get_robustcov_results(cov_type = 'HC3')\n",
    "corrected_model.summary()"
   ]
  },
  {
   "cell_type": "markdown",
   "id": "bd390b4f-0533-4d2b-86e3-427c1783d42a",
   "metadata": {},
   "source": [
    "#### Question 3.c"
   ]
  },
  {
   "cell_type": "code",
   "execution_count": 231,
   "id": "323b441c-45bb-4fdd-bb57-7d681637a16b",
   "metadata": {},
   "outputs": [
    {
     "name": "stdout",
     "output_type": "stream",
     "text": [
      "Predicted Rating: 76.39132200696588\n"
     ]
    }
   ],
   "source": [
    "\n",
    "wine_french = np.array([39.99,13.9,1.83,1.1,2.1,0,1,0,0]).reshape(1,-1)\n",
    "predicted_rating=reg.predict(wine_french)[0]\n",
    "print(\"Predicted Rating:\", predicted_rating)"
   ]
  },
  {
   "cell_type": "markdown",
   "id": "393da08e-1663-40e8-accc-b154c6d18463",
   "metadata": {},
   "source": [
    "#### 3.d\n",
    "Regression model:Rating = 1.120 + 0.936*Price + 3.429*Alcohol + 0.144*Residual_Sugar - 13.867*Sulphates - 0.879*pH - 4.926*Country_Canada + 7.032*Country_France + 3.859*Country_Italy - 5.965*Country_US\n",
    "Answer: \n",
    "Yes, according to the regression model, increasing the price will also increase in the expert rating, as the coefficient for Price is positive (0.936), which means if holding other factors constant, for every dollar increase will increase 0.936 points in rating"
   ]
  },
  {
   "cell_type": "code",
   "execution_count": null,
   "id": "013fa680-a8a8-4f15-9cc2-d6076c978506",
   "metadata": {},
   "outputs": [],
   "source": []
  }
 ],
 "metadata": {
  "kernelspec": {
   "display_name": "Python 3 (ipykernel)",
   "language": "python",
   "name": "python3"
  },
  "language_info": {
   "codemirror_mode": {
    "name": "ipython",
    "version": 3
   },
   "file_extension": ".py",
   "mimetype": "text/x-python",
   "name": "python",
   "nbconvert_exporter": "python",
   "pygments_lexer": "ipython3",
   "version": "3.12.7"
  }
 },
 "nbformat": 4,
 "nbformat_minor": 5
}
