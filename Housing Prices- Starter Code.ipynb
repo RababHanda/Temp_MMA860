{
 "cells": [
  {
   "cell_type": "markdown",
   "id": "0fc2200c-0fb7-43b3-806c-10b401daaa3e",
   "metadata": {},
   "source": [
    "### Team Project: Predicting Housing Prices\n",
    "\n",
    "Team Istanbul"
   ]
  },
  {
   "cell_type": "markdown",
   "id": "3e2af10c-942f-46ef-8363-76862d033cb9",
   "metadata": {},
   "source": [
    "### UDFs"
   ]
  },
  {
   "cell_type": "markdown",
   "id": "bc71b0cd-af46-40f2-b1fe-f96d5aa9b9de",
   "metadata": {},
   "source": [
    "### Project Code"
   ]
  },
  {
   "cell_type": "markdown",
   "id": "1f45f787-40cf-43c0-8afb-2d3cff8a4d70",
   "metadata": {},
   "source": [
    "#### Data Cleaning\n",
    "1. Check for nulls\n",
    "2. Check of data-type inconsistencies\n",
    "3. Check for duplicate rows\n",
    "4. Check for outliers\n",
    "5. Test for biases after imputations\n"
   ]
  },
  {
   "cell_type": "code",
   "execution_count": null,
   "id": "75936a1f-e309-4470-8b3e-b19fcdbef385",
   "metadata": {},
   "outputs": [],
   "source": []
  },
  {
   "cell_type": "markdown",
   "id": "a40f1b6d-9369-4466-b8de-55d01ed0456a",
   "metadata": {},
   "source": [
    "#### Exploratory Data Analysis\n",
    "1. Statistical analysis of variables\n"
   ]
  },
  {
   "cell_type": "code",
   "execution_count": null,
   "id": "2703b583-4502-40d4-93fa-007d58f4abc3",
   "metadata": {},
   "outputs": [],
   "source": []
  },
  {
   "cell_type": "markdown",
   "id": "570efe98-a39b-4590-8756-8d460c4e00c5",
   "metadata": {},
   "source": [
    "#### Feature Engineering\n",
    "1. Dummy variables/One Hot Encoding\n",
    "2. Test variable significance\n",
    "3. Collinearity analysis\n",
    "4. Dimension reduction"
   ]
  },
  {
   "cell_type": "code",
   "execution_count": null,
   "id": "907263f8-63e5-4edb-8ca0-a9b2854296ed",
   "metadata": {},
   "outputs": [],
   "source": [
    "\n"
   ]
  },
  {
   "cell_type": "markdown",
   "id": "34a733f0-4857-4952-96df-94813def5259",
   "metadata": {},
   "source": [
    "#### Predictive Modelling\n",
    "1. Multiple Lineaer Regression\n",
    "2. Heteroskedascity analysis\n",
    "3. Hypothesis Testing\n",
    "4. MAE and RMSE analysis"
   ]
  },
  {
   "cell_type": "code",
   "execution_count": null,
   "id": "43b4c241-58df-4a9b-a38c-a713bcbb8377",
   "metadata": {},
   "outputs": [],
   "source": []
  }
 ],
 "metadata": {
  "kernelspec": {
   "display_name": "Python 3 (ipykernel)",
   "language": "python",
   "name": "python3"
  },
  "language_info": {
   "codemirror_mode": {
    "name": "ipython",
    "version": 3
   },
   "file_extension": ".py",
   "mimetype": "text/x-python",
   "name": "python",
   "nbconvert_exporter": "python",
   "pygments_lexer": "ipython3",
   "version": "3.12.9"
  }
 },
 "nbformat": 4,
 "nbformat_minor": 5
}
