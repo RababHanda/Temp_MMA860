{
 "cells": [
  {
   "cell_type": "markdown",
   "metadata": {
    "application/vnd.databricks.v1+cell": {
     "cellMetadata": {
      "byteLimit": 2048000,
      "rowLimit": 10000
     },
     "inputWidgets": {},
     "nuid": "7c09d3a7-dd6c-4768-94be-6e345806f1f3",
     "showTitle": false,
     "tableResultSettingsMap": {},
     "title": ""
    }
   },
   "source": [
    "## MMA 860: Assignment 2\n",
    "#### Team Istanbul\n",
    "This file contains the code for all questions in the Assignment 2"
   ]
  },
  {
   "cell_type": "code",
   "execution_count": 1,
   "metadata": {
    "application/vnd.databricks.v1+cell": {
     "cellMetadata": {
      "byteLimit": 2048000,
      "rowLimit": 10000
     },
     "inputWidgets": {},
     "nuid": "8367600c-2382-4704-a646-2a3d984da725",
     "showTitle": false,
     "tableResultSettingsMap": {},
     "title": ""
    }
   },
   "outputs": [],
   "source": [
    "# %pip install openpyxl\n",
    "# %matplotlib inline"
   ]
  },
  {
   "cell_type": "code",
   "execution_count": 2,
   "metadata": {
    "application/vnd.databricks.v1+cell": {
     "cellMetadata": {
      "byteLimit": 2048000,
      "rowLimit": 10000
     },
     "inputWidgets": {},
     "nuid": "b1c33fe7-0569-4cca-bea0-27b653637e8a",
     "showTitle": false,
     "tableResultSettingsMap": {},
     "title": ""
    }
   },
   "outputs": [],
   "source": [
    "#importing libraries\n",
    "import pandas as pd\n",
    "import numpy as np\n",
    "\n",
    "import statsmodels.imputation.mice as mice\n",
    "import statsmodels.api as sm\n",
    "from statsmodels.formula.api import ols\n",
    "\n",
    "from sklearn.preprocessing import OneHotEncoder\n",
    "from sklearn.preprocessing import StandardScaler\n",
    "from sklearn.compose import ColumnTransformer\n",
    "from sklearn.pipeline import Pipeline\n",
    "\n",
    "from sklearn import linear_model\n",
    "# import scipy.stats\n",
    "\n",
    "from statsmodels.stats.diagnostic import het_breuschpagan\n",
    "\n",
    "import matplotlib.pyplot as plt\n",
    "# from mpl_toolkits.mplot3d import Axes3D\n",
    "\n",
    "# import shutil\n",
    "\n",
    "\n",
    "\n",
    "#Data source\n",
    "file_path = \"860 Assignment 2 Data.xlsx\""
   ]
  },
  {
   "cell_type": "markdown",
   "metadata": {
    "application/vnd.databricks.v1+cell": {
     "cellMetadata": {
      "byteLimit": 2048000,
      "rowLimit": 10000
     },
     "inputWidgets": {},
     "nuid": "8c8a9858-e25c-43a7-94a7-5b46d88d105a",
     "showTitle": false,
     "tableResultSettingsMap": {},
     "title": ""
    }
   },
   "source": [
    "### UDFs"
   ]
  },
  {
   "cell_type": "code",
   "execution_count": 3,
   "metadata": {
    "application/vnd.databricks.v1+cell": {
     "cellMetadata": {
      "byteLimit": 2048000,
      "rowLimit": 10000
     },
     "inputWidgets": {},
     "nuid": "bed71b45-b91e-4482-b26d-aedd9041a131",
     "showTitle": false,
     "tableResultSettingsMap": {},
     "title": ""
    }
   },
   "outputs": [],
   "source": [
    "#checking null values in a dataframe\n",
    "def check_null(df):\n",
    "    variables = df.columns[2:].tolist()\n",
    "\n",
    "    #checking for null values in all inpedendent variables\n",
    "    for var in variables:\n",
    "        df_nulls    = df[pd.isnull(df[var])]\n",
    "        print(f\"Displaying results for column: {var}\")\n",
    "        print(df_nulls)\n",
    "        print(\"\\n\")\n",
    "    "
   ]
  },
  {
   "cell_type": "code",
   "execution_count": 4,
   "metadata": {
    "application/vnd.databricks.v1+cell": {
     "cellMetadata": {
      "byteLimit": 2048000,
      "rowLimit": 10000
     },
     "inputWidgets": {},
     "nuid": "1b40aede-5ec5-452a-a5a9-0e5750fb72da",
     "showTitle": false,
     "tableResultSettingsMap": {},
     "title": ""
    }
   },
   "outputs": [],
   "source": [
    "#Convert string columns to categorical columns\n",
    "def to_cat(df):\n",
    "    cat_cols    = df.select_dtypes(include=['object']).columns.tolist()\n",
    "    df_dummy    = pd.get_dummies(df, columns=cat_cols, dtype='int')\n",
    "    \n",
    "    return df_dummy "
   ]
  },
  {
   "cell_type": "code",
   "execution_count": 5,
   "metadata": {
    "application/vnd.databricks.v1+cell": {
     "cellMetadata": {
      "byteLimit": 2048000,
      "rowLimit": 10000
     },
     "inputWidgets": {},
     "nuid": "ef0cb69f-65b9-4941-8443-b2eee93fa397",
     "showTitle": false,
     "tableResultSettingsMap": {},
     "title": ""
    }
   },
   "outputs": [],
   "source": [
    "def reg_eq(df, y, features, model):\n",
    "    coeffs = model.params\n",
    "    intercept = model.params[0]\n",
    "\n",
    "    equation = \"\"\n",
    "    for coef, feat in zip(model.params, features):\n",
    "        equation += f\"({coef:.2f} x {feat}) + \"\n",
    "\n",
    "    print(f\"The linear regression model for is: {y} = {equation}({model.params[0]:.3f})\")\n",
    "    print(f\"R-squared value: {model.rsquared:.5f}\")\n"
   ]
  },
  {
   "cell_type": "code",
   "execution_count": 6,
   "metadata": {
    "application/vnd.databricks.v1+cell": {
     "cellMetadata": {
      "byteLimit": 2048000,
      "rowLimit": 10000
     },
     "inputWidgets": {},
     "nuid": "594d0ef1-5117-420d-ab27-8758c71fa5fd",
     "showTitle": false,
     "tableResultSettingsMap": {},
     "title": ""
    }
   },
   "outputs": [],
   "source": [
    "#Perform Linear Regression\n",
    "def lin_reg(df, y, features):\n",
    "\n",
    "    variables   = df[features]\n",
    "    y_value     = df[y]\n",
    "\n",
    "    #run linear regression fitting\n",
    "    reg = linear_model.LinearRegression()\n",
    "    reg.fit(variables, y_value)\n",
    "\n",
    "    #Calcute R-square value\n",
    "    r2 = reg.score(variables, y_value)\n",
    "\n",
    "    #Linear regression equation\n",
    "    equation = \"\"\n",
    "    for coef, feat in zip(reg.coef_, features):\n",
    "        equation += f\"({coef:.3f} x {feat}) + \"\n",
    "\n",
    "    print(f\"The linear regression model is: {y} = {equation}({reg.intercept_:3f})\")\n",
    "    print(f\"R-squared value: {r2:.5f}\")\n",
    "    \n",
    "    return reg"
   ]
  },
  {
   "cell_type": "markdown",
   "metadata": {
    "application/vnd.databricks.v1+cell": {
     "cellMetadata": {
      "byteLimit": 2048000,
      "rowLimit": 10000
     },
     "inputWidgets": {},
     "nuid": "bd243308-f6e7-4ccd-b4bb-63764c974782",
     "showTitle": false,
     "tableResultSettingsMap": {},
     "title": ""
    }
   },
   "source": [
    "### Code for Questions"
   ]
  },
  {
   "cell_type": "markdown",
   "metadata": {
    "application/vnd.databricks.v1+cell": {
     "cellMetadata": {
      "byteLimit": 2048000,
      "rowLimit": 10000
     },
     "inputWidgets": {},
     "nuid": "e48659eb-3a59-4b23-8a6c-8e85123b1974",
     "showTitle": false,
     "tableResultSettingsMap": {},
     "title": ""
    }
   },
   "source": [
    "#### Question 1: Statistics' Theory"
   ]
  },
  {
   "cell_type": "markdown",
   "metadata": {
    "application/vnd.databricks.v1+cell": {
     "cellMetadata": {},
     "inputWidgets": {},
     "nuid": "2514511b-0b6a-4fac-8273-3ac49953f0d8",
     "showTitle": false,
     "tableResultSettingsMap": {},
     "title": ""
    }
   },
   "source": [
    "##### Part a: Misinterpretation of the Joint F-Test"
   ]
  },
  {
   "cell_type": "markdown",
   "metadata": {
    "application/vnd.databricks.v1+cell": {
     "cellMetadata": {},
     "inputWidgets": {},
     "nuid": "9ee59051-e5f1-4a29-ada9-7881097f2190",
     "showTitle": false,
     "tableResultSettingsMap": {},
     "title": ""
    }
   },
   "source": [
    "**Statement:**  \n",
    "> “If the p-value for the ‘joint F-test’ is too large – say greater than 0.05 – there is really no point in looking at the rest of the regression output. The model is just plain crap.”\n",
    "\n",
    "**Correction:**\n",
    "This statement is **partially incorrect**. A high p-value (p > 0.05) for the joint F-test means that the independent variables, as a group, do not significantly improve predictions of the dependent variable. Specifically, we fail to reject the null hypothesis that all coefficients are simultaneously zero.\n",
    "\n",
    "However, this **doesn’t automatically mean the model is useless**. Individual predictors might still be significant, even if the overall model isn’t. Before dismissing the model, check the p-values of each independent variable. If some are statistically significant (p < 0.05), refining the model by removing weak predictors and keeping strong ones could still make it useful.\n",
    "\n",
    "Additionally, the conventional **0.05 threshold shouldn’t be treated as absolute** – the appropriate significance level depends on context and the consequences of Type I/II errors. Sample size also matters – with very small samples, important relationships might not appear significant. Even if statistically insignificant, the model might still provide practical insights or suggest relationships worth investigating further.\n",
    "\n",
    "If **all predictor p-values are high**, then yes, the model lacks predictive power and should be reconsidered. Otherwise, it may still have value with some adjustments."
   ]
  },
  {
   "cell_type": "markdown",
   "metadata": {
    "application/vnd.databricks.v1+cell": {
     "cellMetadata": {},
     "inputWidgets": {},
     "nuid": "2ba8c7bc-abca-4fd8-8a9a-ea560d848a45",
     "showTitle": false,
     "tableResultSettingsMap": {},
     "title": ""
    }
   },
   "source": [
    "##### Part b: Handling Outliers Incorrectly"
   ]
  },
  {
   "cell_type": "markdown",
   "metadata": {
    "application/vnd.databricks.v1+cell": {
     "cellMetadata": {},
     "inputWidgets": {},
     "nuid": "a10782d8-6ee1-4d2b-988f-4c5c0c0fba05",
     "showTitle": false,
     "tableResultSettingsMap": {},
     "title": ""
    }
   },
   "source": [
    "**Statement:**  \n",
    "> “When you detect an outlier, you should just replace it with the mean value of the dataset.”\n",
    "\n",
    "**Correction:**\n",
    "This is **not a good approach**. Replacing outliers with the mean can distort the dataset and lead to misleading conclusions. The mean is influenced by extreme values, so if an outlier exists, it likely affects the mean itself. Substituting the outlier with this distorted value does not accurately represent the data.\n",
    "\n",
    "**Better Approaches to Handling Outliers:**\n",
    "- **Understand why the outlier exists:**  \n",
    "  - If it’s a data entry error → Correct or remove it.  \n",
    "  - If it’s valid but irrelevant to the analysis → Consider exclusion.  \n",
    "  - If it carries meaningful information → Retain it.  \n",
    "\n",
    "- **Alternative methods:**\n",
    "  - **Use the median** (less affected by extreme values).  \n",
    "  - **Apply Winsorization** (cap extreme values at a reasonable threshold).  \n",
    "  - **Use robust models** (tree-based methods, robust regression).  \n",
    "  - **Investigate why the outlier occurred** to understand the underlying process.  \n",
    "  - **Consider transformations** if appropriate.  \n",
    "  - **Document modifications** for transparency.  \n",
    "\n",
    "Simply replacing outliers with the mean can **mask important patterns or introduce artificial trends**. The key is to assess whether an outlier disrupts analysis or provides valuable insights.\n"
   ]
  },
  {
   "cell_type": "markdown",
   "metadata": {
    "application/vnd.databricks.v1+cell": {
     "cellMetadata": {},
     "inputWidgets": {},
     "nuid": "c2f0ac5a-87d1-4621-b866-2416e6e815bd",
     "showTitle": false,
     "tableResultSettingsMap": {},
     "title": ""
    }
   },
   "source": [
    "##### Part c: The 0.05 Alpha Rule in Hypothesis Testing"
   ]
  },
  {
   "cell_type": "markdown",
   "metadata": {
    "application/vnd.databricks.v1+cell": {
     "cellMetadata": {},
     "inputWidgets": {},
     "nuid": "cd6cdd2e-5715-4de7-9db2-7dec0b6f3464",
     "showTitle": false,
     "tableResultSettingsMap": {},
     "title": ""
    }
   },
   "source": [
    "**Statement:**  \n",
    "> “When conducting a hypothesis test, like the t-test, you should always set alpha = 0.05.”\n",
    "\n",
    "**Correction:**\n",
    "This **isn’t always the case**. Choosing the right alpha level depends on the situation and how much risk the company or decision-makers are willing to accept. It’s about balancing the consequences of making a false claim (**Type I error**) versus missing something important (**Type II error**).\n",
    "\n",
    "**Context-Dependent Alpha Levels:**\n",
    "- **High-risk decisions** (e.g., medical treatments, structural integrity) → **Lower alpha (0.01)** to minimize false positives.\n",
    "- **Business settings** (e.g., product launches, marketing strategies) → **Higher alpha (0.10)** to allow for flexibility and innovation.\n",
    "\n",
    "The **0.05 level became a convention**, but it’s **not universally optimal**. The appropriate significance level should consider:\n",
    "- The **consequences of Type I errors** (false positives).  \n",
    "- The **consequences of Type II errors** (false negatives).  \n",
    "- **Context and field of study** (medical research vs. exploratory research).  \n",
    "- **Sample size considerations** (smaller samples may require different thresholds).  \n",
    "\n",
    "Alpha **isn’t a one-size-fits-all rule**. It should be chosen based on the level of risk involved and what matters most—safety, financial impact, or opportunities for growth.\n"
   ]
  },
  {
   "cell_type": "markdown",
   "metadata": {
    "application/vnd.databricks.v1+cell": {
     "cellMetadata": {},
     "inputWidgets": {},
     "nuid": "f1db952e-8e8a-4a43-95b5-e8e789770353",
     "showTitle": false,
     "tableResultSettingsMap": {},
     "title": ""
    }
   },
   "source": [
    "##### Part d: Misunderstanding Heteroskedasticity in Survey Data"
   ]
  },
  {
   "cell_type": "markdown",
   "metadata": {
    "application/vnd.databricks.v1+cell": {
     "cellMetadata": {},
     "inputWidgets": {},
     "nuid": "4cbc3ac5-d06b-4fa3-b2e1-bc7c3a111882",
     "showTitle": false,
     "tableResultSettingsMap": {},
     "title": ""
    }
   },
   "source": [
    "**Statement:**  \n",
    "> “Our hotel did a customer satisfaction survey for all the guests who visited last weekend. The results were plagued by heteroskedasticity, so we basically had to scrap the results and start again.”\n",
    "\n",
    "**Correction:**\n",
    "Heteroskedasticity can be a challenge in survey data, but **it doesn’t mean the results are unusable**. It occurs when the variability of responses isn’t consistent across all observations, which can make standard statistical tests less reliable. Some groups in the survey may have answered with much more variation than others, leading to uneven patterns in the data.\n",
    "\n",
    "**Alternative Solutions Instead of Scrapping the Data:**\n",
    "1. **Use heteroskedasticity-robust standard errors** to adjust for variance differences.\n",
    "2. **Transform variables** (e.g., log transformation) to stabilize variance.\n",
    "3. **Use Weighted Least Squares (WLS)**, which gives different weight to observations based on variability.\n",
    "4. **Apply bootstrap methods** to improve inference reliability.\n",
    "\n",
    "Heteroskedasticity **doesn’t invalidate** data collection or survey results – it only affects the efficiency of standard errors in regression analysis. In fact, for a customer satisfaction survey, heteroskedasticity might actually **provide valuable insights** about varying response patterns among different customer segments.\n",
    "\n",
    "The manager’s suggestion to scrap the results **shows a misunderstanding** of what heteroskedasticity means and how it can be addressed. Instead of discarding data, applying the right statistical adjustments can make the results meaningful and actionable.\n"
   ]
  },
  {
   "cell_type": "markdown",
   "metadata": {
    "application/vnd.databricks.v1+cell": {
     "cellMetadata": {
      "byteLimit": 2048000,
      "rowLimit": 10000
     },
     "inputWidgets": {},
     "nuid": "cb3f4d1c-5a9c-4c3c-b709-040a7965afa4",
     "showTitle": false,
     "tableResultSettingsMap": {},
     "title": ""
    }
   },
   "source": [
    "#### Question 2: Missing Data"
   ]
  },
  {
   "cell_type": "markdown",
   "metadata": {
    "application/vnd.databricks.v1+cell": {
     "cellMetadata": {},
     "inputWidgets": {},
     "nuid": "5bf48bb2-efd0-470e-8a35-0669baa2f9a8",
     "showTitle": false,
     "tableResultSettingsMap": {},
     "title": ""
    }
   },
   "source": [
    "##### Part a: Process of multiple imputations"
   ]
  },
  {
   "cell_type": "markdown",
   "metadata": {
    "application/vnd.databricks.v1+cell": {
     "cellMetadata": {},
     "inputWidgets": {},
     "nuid": "3033c9ed-602a-4fb9-81b8-0d40ac64e9de",
     "showTitle": false,
     "tableResultSettingsMap": {},
     "title": ""
    }
   },
   "source": [
    "Multiple imputation is a statistical technique used to handle missing data by estimating multiple plausible values. Here's how it works:\n",
    "\n",
    "1. Identify missing data: Locate the variables with missing values.\n",
    "2. Generate multiple complete datasets: Instead of filling in missing values with a single estimate (e.g., mean), multiple imputation generates multiple different estimates based on existing patterns.\n",
    "3. Analyze each dataset separately: Each imputed dataset is analyzed as if it were complete.\n",
    "4. Combine results: The results from all imputed datasets are combined to give final estimates while accounting for the uncertainty introduced by missing data.\n",
    "\n",
    "Multiple imputation provides more accurate and unbiased estimates than simple methods like mean substitution, which can distort data relationships."
   ]
  },
  {
   "cell_type": "markdown",
   "metadata": {
    "application/vnd.databricks.v1+cell": {
     "cellMetadata": {},
     "inputWidgets": {},
     "nuid": "5415b903-df02-4eb6-8612-969ec1129fea",
     "showTitle": false,
     "tableResultSettingsMap": {},
     "title": ""
    }
   },
   "source": [
    "##### Part b: Ideal conditions for multiple imputations"
   ]
  },
  {
   "cell_type": "markdown",
   "metadata": {
    "application/vnd.databricks.v1+cell": {
     "cellMetadata": {},
     "inputWidgets": {},
     "nuid": "5a9c6ac3-c56b-4a3b-adc7-bad4f974c03d",
     "showTitle": false,
     "tableResultSettingsMap": {},
     "title": ""
    }
   },
   "source": [
    "Two Key Conditions for Reliable Multiple Imputation\n",
    "\n",
    "1. **Missing at Random (MAR)**\n",
    "\n",
    "    The probability of missing data depends only on observed values, not on the missing values themselves.\n",
    "    Example: In an employee satisfaction survey, missing responses are more likely for employees who work longer hours (observed data), but not because of their actual satisfaction score.\n",
    "\n",
    "2. **Adequate Predictor Variables**\n",
    "\n",
    "    The dataset should have enough variables correlated with the missing data to provide reliable estimates.\n",
    "    Example: If a hospital dataset has missing blood pressure values, multiple imputation can use variables like age, weight, and cholesterol levels to estimate the missing values accurately.\n",
    "    If both MAR and adequate predictors are present, multiple imputation provides reliable estimates."
   ]
  },
  {
   "cell_type": "markdown",
   "metadata": {
    "application/vnd.databricks.v1+cell": {
     "cellMetadata": {},
     "inputWidgets": {},
     "nuid": "f2204a16-bcb6-45f4-ae69-3cdb3c1073d3",
     "showTitle": false,
     "tableResultSettingsMap": {},
     "title": ""
    }
   },
   "source": [
    "##### Part c: Alternates to multiple imputations"
   ]
  },
  {
   "cell_type": "markdown",
   "metadata": {
    "application/vnd.databricks.v1+cell": {
     "cellMetadata": {},
     "inputWidgets": {},
     "nuid": "2a5be5c0-a42c-41c3-b009-410c54d531a2",
     "showTitle": false,
     "tableResultSettingsMap": {},
     "title": ""
    }
   },
   "source": [
    "If multiple imputation is not reliable, alternative methods include:\n",
    "\n",
    "\n",
    "1. **Listwise Deletion (Dropping Rows with Missing Data)**\n",
    "\n",
    "+ This method removes rows with missing values from the dataset.\n",
    "\n",
    "+ Concern: Reduces sample size, leading to potential loss of statistical power and biased results if data is not missing completely at random.\n",
    "\n",
    "2. **Mean/Median Imputation**\n",
    "\n",
    "+ Missing values are replaced with the mean or median of the variable.\n",
    "\n",
    "+ Concern: Distorts the distribution of data, reduces variability, and weakens relationships between variables.\n",
    "\n",
    "3. **Predictive Models (Regression Imputation)**\n",
    "\n",
    "+ Uses a predictive model (such as linear regression) to estimate missing values based on other available data.\n",
    "\n",
    "+ Concern: Assumes a strong and correct relationship between the imputed variable and predictor variables, which may not always hold true.\n",
    "\n",
    "\n",
    "**Concerns with Alternative Methods:**\n",
    "\n",
    "+ Listwise deletion wastes data.\n",
    "\n",
    "+ Mean imputation reduces accuracy.\n",
    "\n",
    "+ Regression-based methods can introduce bias if relationships are weak.\n",
    "\n",
    "\n",
    "When dealing with missing data, careful assessment is needed to determine the most suitable method. If the MAR assumption is not met, researchers should consider the risk of bias associated with alternative imputation techniques."
   ]
  },
  {
   "cell_type": "markdown",
   "metadata": {
    "application/vnd.databricks.v1+cell": {
     "cellMetadata": {
      "byteLimit": 2048000,
      "rowLimit": 10000
     },
     "inputWidgets": {},
     "nuid": "4161c7ef-6f33-42e9-9edf-168fe125c44a",
     "showTitle": false,
     "tableResultSettingsMap": {},
     "title": ""
    }
   },
   "source": [
    "##### Part d: Estimating the Model"
   ]
  },
  {
   "cell_type": "code",
   "execution_count": 7,
   "metadata": {
    "application/vnd.databricks.v1+cell": {
     "cellMetadata": {
      "byteLimit": 2048000,
      "rowLimit": 10000
     },
     "inputWidgets": {},
     "nuid": "d417fa8d-9b40-400b-937f-c53690465321",
     "showTitle": false,
     "tableResultSettingsMap": {},
     "title": ""
    }
   },
   "outputs": [],
   "source": [
    "df_missing  = pd.read_excel(file_path, sheet_name=\"Missing\")"
   ]
  },
  {
   "cell_type": "code",
   "execution_count": 8,
   "metadata": {
    "application/vnd.databricks.v1+cell": {
     "cellMetadata": {
      "byteLimit": 2048000,
      "rowLimit": 10000
     },
     "inputWidgets": {},
     "nuid": "62192b83-8ad9-4f10-a0ab-d2730d069e36",
     "showTitle": false,
     "tableResultSettingsMap": {},
     "title": ""
    }
   },
   "outputs": [
    {
     "name": "stdout",
     "output_type": "stream",
     "text": [
      "Displaying results for column: X1\n",
      "    Obs     Y  X1    X2    X3    X4    X5\n",
      "24   25  3635 NaN  51.0  90.0  64.0  13.0\n",
      "\n",
      "\n",
      "Displaying results for column: X2\n",
      "    Obs     Y    X1  X2    X3    X4    X5\n",
      "33   34  4218  39.0 NaN  49.0  26.0  35.0\n",
      "48   49  5042  64.0 NaN  71.0  74.0  67.0\n",
      "57   58  4857  41.0 NaN  90.0  79.0  38.0\n",
      "62   63  4679   1.0 NaN  69.0  67.0  28.0\n",
      "83   84  3581  61.0 NaN  48.0  74.0  45.0\n",
      "\n",
      "\n",
      "Displaying results for column: X3\n",
      "    Obs     Y    X1    X2  X3    X4    X5\n",
      "68   69  5269  76.0  72.0 NaN  85.0  74.0\n",
      "\n",
      "\n",
      "Displaying results for column: X4\n",
      "    Obs     Y    X1    X2    X3  X4    X5\n",
      "18   19  2378  69.0  36.0  40.0 NaN  10.0\n",
      "41   42  4779  67.0  23.0  81.0 NaN  76.0\n",
      "54   55  2935  66.0  38.0  37.0 NaN  14.0\n",
      "87   88  4584  47.0  73.0  47.0 NaN  63.0\n",
      "\n",
      "\n",
      "Displaying results for column: X5\n",
      "    Obs     Y    X1    X2    X3    X4  X5\n",
      "6     7  3255  36.0  35.0  89.0  67.0 NaN\n",
      "91   92  2267  18.0  52.0  37.0  40.0 NaN\n",
      "\n",
      "\n"
     ]
    }
   ],
   "source": [
    "#checking for null values in all inpedendent variables\n",
    "check_null(df_missing)"
   ]
  },
  {
   "cell_type": "code",
   "execution_count": 9,
   "metadata": {
    "application/vnd.databricks.v1+cell": {
     "cellMetadata": {
      "byteLimit": 2048000,
      "rowLimit": 10000
     },
     "inputWidgets": {},
     "nuid": "ee467b1a-f638-4624-a8cf-e0a8e2ed5d72",
     "showTitle": false,
     "tableResultSettingsMap": {},
     "title": ""
    }
   },
   "outputs": [],
   "source": [
    "#running multiple imputations\n",
    "imp         = mice.MICEData(df_missing)  \n",
    "df_imputed  = imp.next_sample()  "
   ]
  },
  {
   "cell_type": "code",
   "execution_count": 10,
   "metadata": {
    "application/vnd.databricks.v1+cell": {
     "cellMetadata": {
      "byteLimit": 2048000,
      "rowLimit": 10000
     },
     "inputWidgets": {},
     "nuid": "7773db50-0e2a-486f-ba08-d6bd1e5d7426",
     "showTitle": false,
     "tableResultSettingsMap": {},
     "title": ""
    }
   },
   "outputs": [
    {
     "name": "stdout",
     "output_type": "stream",
     "text": [
      "Displaying results for column: X1\n",
      "Empty DataFrame\n",
      "Columns: [Obs, Y, X1, X2, X3, X4, X5]\n",
      "Index: []\n",
      "\n",
      "\n",
      "Displaying results for column: X2\n",
      "Empty DataFrame\n",
      "Columns: [Obs, Y, X1, X2, X3, X4, X5]\n",
      "Index: []\n",
      "\n",
      "\n",
      "Displaying results for column: X3\n",
      "Empty DataFrame\n",
      "Columns: [Obs, Y, X1, X2, X3, X4, X5]\n",
      "Index: []\n",
      "\n",
      "\n",
      "Displaying results for column: X4\n",
      "Empty DataFrame\n",
      "Columns: [Obs, Y, X1, X2, X3, X4, X5]\n",
      "Index: []\n",
      "\n",
      "\n",
      "Displaying results for column: X5\n",
      "Empty DataFrame\n",
      "Columns: [Obs, Y, X1, X2, X3, X4, X5]\n",
      "Index: []\n",
      "\n",
      "\n"
     ]
    }
   ],
   "source": [
    "#Ensuring no nulls exist after imputation\n",
    "check_null(df_imputed)"
   ]
  },
  {
   "cell_type": "code",
   "execution_count": 11,
   "metadata": {
    "application/vnd.databricks.v1+cell": {
     "cellMetadata": {
      "byteLimit": 2048000,
      "rowLimit": 10000
     },
     "inputWidgets": {},
     "nuid": "e8b6b192-55c3-4730-b821-fdf815b65af2",
     "showTitle": false,
     "tableResultSettingsMap": {},
     "title": ""
    }
   },
   "outputs": [
    {
     "name": "stdout",
     "output_type": "stream",
     "text": [
      "                           Results: MICE\n",
      "===================================================================\n",
      "Method:                   MICE      Sample size:          100      \n",
      "Model:                    OLS       Scale                 976103.77\n",
      "Dependent variable:       Y         Num. imputations      5        \n",
      "-------------------------------------------------------------------\n",
      "            Coef.   Std.Err.   t    P>|t|   [0.025   0.975]   FMI  \n",
      "-------------------------------------------------------------------\n",
      "Intercept 1010.4995 512.0911 1.9733 0.0485  6.8193 2014.1796 0.0112\n",
      "X1           6.3805   3.4994 1.8233 0.0683 -0.4782   13.2392 0.0076\n",
      "X2          14.5332   7.1422 2.0348 0.0419  0.5348   28.5316 0.0404\n",
      "X3          15.5736   4.5014 3.4597 0.0005  6.7510   24.3963 0.0173\n",
      "X4          10.4865   5.5652 1.8843 0.0595 -0.4211   21.3941 0.0518\n",
      "X5           3.7811   4.4028 0.8588 0.3905 -4.8482   12.4103 0.0164\n",
      "===================================================================\n",
      "\n"
     ]
    }
   ],
   "source": [
    "#Checking the maximum of the % of records with missing data and using the higher of that or 5\n",
    "missing     = (df_missing.isnull().sum().max() / len(df_missing)) * 100\n",
    "imputations = max(5, int(missing))  \n",
    "\n",
    "#Running regression with imputed data\n",
    "frmla   = \"Y ~ \" + \" + \".join(df_missing.columns.drop([\"Obs\", \"Y\"]))\n",
    "\n",
    "mice    = mice.MICE(frmla, sm.OLS, imp)\n",
    "results = mice.fit(n_imputations=imputations)\n",
    "\n",
    "print(results.summary())"
   ]
  },
  {
   "cell_type": "markdown",
   "metadata": {
    "application/vnd.databricks.v1+cell": {
     "cellMetadata": {
      "byteLimit": 2048000,
      "rowLimit": 10000
     },
     "inputWidgets": {},
     "nuid": "f365c913-41b5-4f5c-af51-a1871087a8ba",
     "showTitle": false,
     "tableResultSettingsMap": {},
     "title": ""
    }
   },
   "source": [
    "##### Part e: X2 in the model"
   ]
  },
  {
   "cell_type": "markdown",
   "metadata": {
    "application/vnd.databricks.v1+cell": {
     "cellMetadata": {
      "byteLimit": 2048000,
      "rowLimit": 10000
     },
     "inputWidgets": {},
     "nuid": "51b863f8-c3c8-42ce-ba4b-df9963db8654",
     "showTitle": false,
     "tableResultSettingsMap": {},
     "title": ""
    }
   },
   "source": [
    "Assuming ***95%*** confidence interval (α = 0.05) variable with p-value less than α are significant. \n",
    "\n",
    "The p-value of X2 ***0.0502 > 0.05*** therefore X2 is not a meaningful variable in modeling Y"
   ]
  },
  {
   "cell_type": "markdown",
   "metadata": {
    "application/vnd.databricks.v1+cell": {
     "cellMetadata": {
      "byteLimit": 2048000,
      "rowLimit": 10000
     },
     "inputWidgets": {},
     "nuid": "be1c5f68-c32b-407d-80cf-dd375f9846e5",
     "showTitle": false,
     "tableResultSettingsMap": {},
     "title": ""
    }
   },
   "source": [
    "#### Question 3: Predictive Modeling - Parameter Analysis"
   ]
  },
  {
   "cell_type": "code",
   "execution_count": 12,
   "metadata": {
    "application/vnd.databricks.v1+cell": {
     "cellMetadata": {
      "byteLimit": 2048000,
      "rowLimit": 10000
     },
     "inputWidgets": {},
     "nuid": "cccfda3f-f7a7-446d-8ecf-4c29801c1514",
     "showTitle": false,
     "tableResultSettingsMap": {},
     "title": ""
    }
   },
   "outputs": [],
   "source": [
    "df_wine  = pd.read_excel(file_path, sheet_name=\"Wine\")"
   ]
  },
  {
   "cell_type": "markdown",
   "metadata": {
    "application/vnd.databricks.v1+cell": {
     "cellMetadata": {
      "byteLimit": 2048000,
      "rowLimit": 10000
     },
     "inputWidgets": {},
     "nuid": "eeefc5a0-5a3a-495d-b962-4d54ad5fc459",
     "showTitle": false,
     "tableResultSettingsMap": {},
     "title": ""
    }
   },
   "source": [
    "##### Part a: Modelling the data"
   ]
  },
  {
   "cell_type": "code",
   "execution_count": 13,
   "metadata": {
    "application/vnd.databricks.v1+cell": {
     "cellMetadata": {
      "byteLimit": 2048000,
      "rowLimit": 10000
     },
     "inputWidgets": {},
     "nuid": "ce3d0885-c513-4fd1-90e8-6222ea3bb92e",
     "showTitle": false,
     "tableResultSettingsMap": {},
     "title": ""
    }
   },
   "outputs": [
    {
     "name": "stdout",
     "output_type": "stream",
     "text": [
      "Obs                 int64\n",
      "Rating            float64\n",
      "Price             float64\n",
      "Alcohol           float64\n",
      "Residual_Sugar    float64\n",
      "Sulphates         float64\n",
      "pH                float64\n",
      "Country            object\n",
      "dtype: object\n",
      "\n",
      "\n",
      "Obs               0\n",
      "Rating            0\n",
      "Price             0\n",
      "Alcohol           0\n",
      "Residual_Sugar    0\n",
      "Sulphates         0\n",
      "pH                0\n",
      "Country           0\n",
      "dtype: int64\n"
     ]
    }
   ],
   "source": [
    "#Check data types and missing values\n",
    "print(df_wine.dtypes)\n",
    "print(\"\\n\")\n",
    "print(df_wine.isnull().sum())"
   ]
  },
  {
   "cell_type": "code",
   "execution_count": 14,
   "metadata": {
    "application/vnd.databricks.v1+cell": {
     "cellMetadata": {
      "byteLimit": 2048000,
      "rowLimit": 10000
     },
     "inputWidgets": {},
     "nuid": "7892f8b9-4d61-4280-820c-a06cc49ca9e7",
     "showTitle": false,
     "tableResultSettingsMap": {},
     "title": ""
    }
   },
   "outputs": [
    {
     "data": {
      "text/plain": [
       "Obs                 int64\n",
       "Rating            float64\n",
       "Price             float64\n",
       "Alcohol           float64\n",
       "Residual_Sugar    float64\n",
       "Sulphates         float64\n",
       "pH                float64\n",
       "Country_Canada      int64\n",
       "Country_France      int64\n",
       "Country_Italy       int64\n",
       "Country_US          int64\n",
       "dtype: object"
      ]
     },
     "execution_count": 14,
     "metadata": {},
     "output_type": "execute_result"
    }
   ],
   "source": [
    "#Converting categorical colum to dummy variables\n",
    "df_wine         = to_cat(df_wine)\n",
    "\n",
    "df_wine.dtypes"
   ]
  },
  {
   "cell_type": "code",
   "execution_count": 15,
   "metadata": {
    "application/vnd.databricks.v1+cell": {
     "cellMetadata": {
      "byteLimit": 2048000,
      "rowLimit": 10000
     },
     "inputWidgets": {},
     "nuid": "6eb666ad-7999-4cd8-be56-f20a6b2ac166",
     "showTitle": false,
     "tableResultSettingsMap": {},
     "title": ""
    }
   },
   "outputs": [
    {
     "name": "stdout",
     "output_type": "stream",
     "text": [
      "                            OLS Regression Results                            \n",
      "==============================================================================\n",
      "Dep. Variable:                 Rating   R-squared:                       0.876\n",
      "Model:                            OLS   Adj. R-squared:                  0.865\n",
      "Method:                 Least Squares   F-statistic:                     80.52\n",
      "Date:                Fri, 21 Mar 2025   Prob (F-statistic):           6.30e-38\n",
      "Time:                        15:34:53   Log-Likelihood:                -318.82\n",
      "No. Observations:                 100   AIC:                             655.6\n",
      "Df Residuals:                      91   BIC:                             679.1\n",
      "Df Model:                           8                                         \n",
      "Covariance Type:            nonrobust                                         \n",
      "==================================================================================\n",
      "                     coef    std err          t      P>|t|      [0.025      0.975]\n",
      "----------------------------------------------------------------------------------\n",
      "Intercept          0.8959      5.387      0.166      0.868      -9.804      11.596\n",
      "Price              0.9357      0.052     17.931      0.000       0.832       1.039\n",
      "Alcohol            3.4287      0.480      7.143      0.000       2.475       4.382\n",
      "Residual_Sugar     0.1439      0.669      0.215      0.830      -1.186       1.474\n",
      "Sulphates        -13.8671      1.119    -12.388      0.000     -16.091     -11.644\n",
      "pH                -0.8792      1.117     -0.787      0.433      -3.097       1.339\n",
      "Country_Canada    -4.7022      1.523     -3.086      0.003      -7.728      -1.676\n",
      "Country_France     7.2555      2.083      3.482      0.001       3.117      11.394\n",
      "Country_Italy      4.0834      1.606      2.542      0.013       0.893       7.274\n",
      "Country_US        -5.7408      1.799     -3.190      0.002      -9.315      -2.166\n",
      "==============================================================================\n",
      "Omnibus:                        1.787   Durbin-Watson:                   1.890\n",
      "Prob(Omnibus):                  0.409   Jarque-Bera (JB):                1.291\n",
      "Skew:                          -0.256   Prob(JB):                        0.524\n",
      "Kurtosis:                       3.216   Cond. No.                     4.49e+17\n",
      "==============================================================================\n",
      "\n",
      "Notes:\n",
      "[1] Standard Errors assume that the covariance matrix of the errors is correctly specified.\n",
      "[2] The smallest eigenvalue is 4.77e-31. This might indicate that there are\n",
      "strong multicollinearity problems or that the design matrix is singular.\n"
     ]
    }
   ],
   "source": [
    "#Fitting to ols regression model\n",
    "features_wine   = df_wine.columns[2:].tolist()\n",
    "model_wine      = ols(f\"Rating ~ \" + \" + \".join(features_wine), data=df_wine).fit()\n",
    "\n",
    "print(model_wine.summary())"
   ]
  },
  {
   "cell_type": "code",
   "execution_count": 16,
   "metadata": {
    "application/vnd.databricks.v1+cell": {
     "cellMetadata": {
      "byteLimit": 2048000,
      "rowLimit": 10000
     },
     "inputWidgets": {},
     "nuid": "76bd7743-43ea-4aae-8f70-69a87f01d638",
     "showTitle": false,
     "tableResultSettingsMap": {},
     "title": ""
    }
   },
   "outputs": [
    {
     "name": "stdout",
     "output_type": "stream",
     "text": [
      "The linear regression model is: Rating = (0.936 x Price) + (3.429 x Alcohol) + (0.144 x Residual_Sugar) + (-13.867 x Sulphates) + (-0.879 x pH) + (-4.926 x Country_Canada) + (7.032 x Country_France) + (3.859 x Country_Italy) + (-5.965 x Country_US) + (1.119856)\n",
      "R-squared value: 0.87622\n"
     ]
    },
    {
     "data": {
      "text/plain": [
       "LinearRegression()"
      ]
     },
     "execution_count": 16,
     "metadata": {},
     "output_type": "execute_result"
    }
   ],
   "source": [
    "#Creating the linear regression equation\n",
    "lin_reg(df_wine, \"Rating\", features_wine)"
   ]
  },
  {
   "cell_type": "markdown",
   "metadata": {
    "application/vnd.databricks.v1+cell": {
     "cellMetadata": {
      "byteLimit": 2048000,
      "rowLimit": 10000
     },
     "inputWidgets": {},
     "nuid": "a40d9ea9-fc2c-496b-b218-a4ab940b2043",
     "showTitle": false,
     "tableResultSettingsMap": {},
     "title": ""
    }
   },
   "source": [
    "##### Part b: Heteroskedasticity Test"
   ]
  },
  {
   "cell_type": "code",
   "execution_count": 17,
   "metadata": {
    "application/vnd.databricks.v1+cell": {
     "cellMetadata": {
      "byteLimit": 2048000,
      "rowLimit": 10000
     },
     "inputWidgets": {},
     "nuid": "0acf4432-d518-4e4a-996d-7971b7661ace",
     "showTitle": false,
     "tableResultSettingsMap": {},
     "title": ""
    }
   },
   "outputs": [],
   "source": [
    "#Testing for heteroskedasticity\n",
    "X_train = df_wine[features_wine]\n",
    "y_train = df_wine[\"Rating\"].values\n",
    "\n",
    "reg         = linear_model.LinearRegression().fit(X_train, y_train)\n",
    "residuals   = y_train - reg.predict(X_train)"
   ]
  },
  {
   "cell_type": "code",
   "execution_count": 18,
   "metadata": {
    "application/vnd.databricks.v1+cell": {
     "cellMetadata": {
      "byteLimit": 2048000,
      "rowLimit": 10000
     },
     "inputWidgets": {},
     "nuid": "455d96eb-290a-42c8-b4ca-05f9385aecb1",
     "showTitle": false,
     "tableResultSettingsMap": {},
     "title": ""
    }
   },
   "outputs": [
    {
     "data": {
      "text/plain": [
       "[<matplotlib.lines.Line2D at 0x7f80b7b331c0>]"
      ]
     },
     "execution_count": 18,
     "metadata": {},
     "output_type": "execute_result"
    },
    {
     "data": {
      "image/png": "[encoded data removed]",
      "text/plain": [
       "<Figure size 1080x360 with 1 Axes>"
      ]
     },
     "metadata": {
      "needs_background": "light"
     },
     "output_type": "display_data"
    }
   ],
   "source": [
    "#Plot to check for heteroskedasticity\n",
    "scaler = StandardScaler().fit(residuals.reshape(-1, 1))\n",
    "norm_residuals = scaler.transform(residuals.reshape(-1, 1))\n",
    "\n",
    "\n",
    "plt.figure(figsize=(15,5))\n",
    "plt.grid(True, linestyle='--', alpha=0.7)\n",
    "plt.title(f\"Comparison of Residuals vs Fitted Values\")\n",
    "\n",
    "plt.scatter(reg.predict(X_train),norm_residuals,c='black',s=35)\n",
    "plt.xlabel(\"Fitted Values\")\n",
    "plt.ylabel(\"Standardized Residuals\")\n",
    "\n",
    "\n",
    "# add trend line  \n",
    "plt_lin_reg = linear_model.LinearRegression()\n",
    "plt_lin_reg.fit(reg.predict(X_train).reshape(-1, 1), norm_residuals)  \n",
    "\n",
    "trendline   = plt_lin_reg.predict(reg.predict(X_train).reshape(-1, 1))\n",
    "\n",
    "# Plot the trendline\n",
    "plt.plot(reg.predict(X_train), trendline, color='red', linewidth=2, linestyle='dotted')"
   ]
  },
  {
   "cell_type": "markdown",
   "metadata": {
    "application/vnd.databricks.v1+cell": {
     "cellMetadata": {},
     "inputWidgets": {},
     "nuid": "c5a90ba5-0c86-4109-8688-a57102fa005d",
     "showTitle": false,
     "tableResultSettingsMap": {},
     "title": ""
    }
   },
   "source": [
    "As can be seen in the graph above, the model is not heteroskedastic as the spread of residuals is not increasing or decreasing as the Predicted value increases"
   ]
  },
  {
   "cell_type": "code",
   "execution_count": 19,
   "metadata": {
    "application/vnd.databricks.v1+cell": {
     "cellMetadata": {
      "byteLimit": 2048000,
      "rowLimit": 10000
     },
     "inputWidgets": {},
     "nuid": "da9756b3-185c-4795-9460-90a746094882",
     "showTitle": false,
     "tableResultSettingsMap": {},
     "title": ""
    }
   },
   "outputs": [
    {
     "name": "stdout",
     "output_type": "stream",
     "text": [
      "{'LM Statistic': 7.873658119286442, 'LM-Test p-value': 0.546926989946379, 'F-Statistic': 0.9721742910713911, 'F-Test p-value': 0.46280326695953156}\n"
     ]
    }
   ],
   "source": [
    "residuals = model_wine.resid\n",
    "# Breusch-Pagan test for heteroskedasticity\n",
    "bp = het_breuschpagan(residuals, model_wine.model.exog)\n",
    "measures = ('LM Statistic', 'LM-Test p-value', 'F-Statistic', 'F-Test p-value')\n",
    "print(dict(zip(measures,bp)))"
   ]
  },
  {
   "cell_type": "code",
   "execution_count": 20,
   "metadata": {
    "application/vnd.databricks.v1+cell": {
     "cellMetadata": {
      "byteLimit": 2048000,
      "rowLimit": 10000
     },
     "inputWidgets": {},
     "nuid": "a00820b9-de91-47b5-a6dc-1a8c40f6a90d",
     "showTitle": false,
     "tableResultSettingsMap": {},
     "title": ""
    }
   },
   "outputs": [
    {
     "name": "stdout",
     "output_type": "stream",
     "text": [
      "                            OLS Regression Results                            \n",
      "==============================================================================\n",
      "Dep. Variable:                 Rating   R-squared:                       0.876\n",
      "Model:                            OLS   Adj. R-squared:                  0.865\n",
      "Method:                 Least Squares   F-statistic:                     972.7\n",
      "Date:                Fri, 21 Mar 2025   Prob (F-statistic):           2.27e-86\n",
      "Time:                        15:34:53   Log-Likelihood:                -318.82\n",
      "No. Observations:                 100   AIC:                             655.6\n",
      "Df Residuals:                      91   BIC:                             679.1\n",
      "Df Model:                           8                                         \n",
      "Covariance Type:                  HC3                                         \n",
      "==================================================================================\n",
      "                     coef    std err          t      P>|t|      [0.025      0.975]\n",
      "----------------------------------------------------------------------------------\n",
      "Intercept          0.8959      5.024      0.178      0.859      -9.084      10.876\n",
      "Price              0.9357      0.048     19.555      0.000       0.841       1.031\n",
      "Alcohol            3.4287      0.424      8.081      0.000       2.586       4.271\n",
      "Residual_Sugar     0.1439      0.759      0.190      0.850      -1.364       1.652\n",
      "Sulphates        -13.8671      1.196    -11.598      0.000     -16.242     -11.492\n",
      "pH                -0.8792      1.221     -0.720      0.473      -3.304       1.545\n",
      "Country_Canada    -4.7022      1.534     -3.066      0.003      -7.749      -1.656\n",
      "Country_France     7.2555      1.870      3.880      0.000       3.541      10.970\n",
      "Country_Italy      4.0834      1.597      2.557      0.012       0.911       7.256\n",
      "Country_US        -5.7408      1.825     -3.145      0.002      -9.366      -2.115\n",
      "==============================================================================\n",
      "Omnibus:                        1.787   Durbin-Watson:                   1.890\n",
      "Prob(Omnibus):                  0.409   Jarque-Bera (JB):                1.291\n",
      "Skew:                          -0.256   Prob(JB):                        0.524\n",
      "Kurtosis:                       3.216   Cond. No.                     4.49e+17\n",
      "==============================================================================\n",
      "\n",
      "Notes:\n",
      "[1] Standard Errors are heteroscedasticity robust (HC3)\n",
      "[2] The smallest eigenvalue is 4.77e-31. This might indicate that there are\n",
      "strong multicollinearity problems or that the design matrix is singular.\n"
     ]
    }
   ],
   "source": [
    "corrected_model = model_wine.get_robustcov_results(cov_type = 'HC3')\n",
    "print(corrected_model.summary())"
   ]
  },
  {
   "cell_type": "markdown",
   "metadata": {
    "application/vnd.databricks.v1+cell": {
     "cellMetadata": {
      "byteLimit": 2048000,
      "rowLimit": 10000
     },
     "inputWidgets": {},
     "nuid": "ce566228-4a53-4a32-b60e-05e4494a5e91",
     "showTitle": false,
     "tableResultSettingsMap": {},
     "title": ""
    }
   },
   "source": [
    "##### Part c: Predicting value from new data"
   ]
  },
  {
   "cell_type": "code",
   "execution_count": 21,
   "metadata": {
    "application/vnd.databricks.v1+cell": {
     "cellMetadata": {
      "byteLimit": 2048000,
      "rowLimit": 10000
     },
     "inputWidgets": {},
     "nuid": "80a379ba-3ceb-474e-91c2-7d532cacdeb4",
     "showTitle": false,
     "tableResultSettingsMap": {},
     "title": ""
    }
   },
   "outputs": [
    {
     "name": "stdout",
     "output_type": "stream",
     "text": [
      "Predicted Rating: 76.39132200696588\n"
     ]
    }
   ],
   "source": [
    "#Predict rating of Wine\n",
    "wine_french         = np.array([39.99,13.9,1.83,1.1,2.1,0,1,0,0]).reshape(1,-1)\n",
    "predicted_rating    = reg.predict(wine_french)[0]\n",
    "\n",
    "print(\"Predicted Rating:\", predicted_rating)"
   ]
  },
  {
   "cell_type": "markdown",
   "metadata": {
    "application/vnd.databricks.v1+cell": {
     "cellMetadata": {},
     "inputWidgets": {},
     "nuid": "8be739de-32f4-4676-b255-aa64ed8a03d9",
     "showTitle": false,
     "tableResultSettingsMap": {},
     "title": ""
    }
   },
   "source": [
    "##### Part d: Impact of increasing price on rating"
   ]
  },
  {
   "cell_type": "markdown",
   "metadata": {
    "application/vnd.databricks.v1+cell": {
     "cellMetadata": {
      "byteLimit": 2048000,
      "rowLimit": 10000
     },
     "inputWidgets": {},
     "nuid": "290dcaa4-f5ba-4c57-8c80-3aa2595c253f",
     "showTitle": false,
     "tableResultSettingsMap": {},
     "title": ""
    }
   },
   "source": [
    "Our model is:\n",
    "  >`Rating = (0.936 x Price) + (3.429 x Alcohol) + (0.144 x Residual_Sugar) + (-13.867 x Sulphates) + (-0.879 x pH) + (-4.926 x Country_Canada) + (7.032 x Country_France) + (3.859 x Country_Italy) + (-5.965 x Country_US) + (1.119856)`\n",
    "\n",
    "Therefore, according to the regression model, increasing the price will also increase in the expert rating, as the coefficient for Price is positive (0.936), which means if holding other factors constant, for every dollar increase will increase 0.936 points in rating"
   ]
  },
  {
   "cell_type": "markdown",
   "metadata": {
    "application/vnd.databricks.v1+cell": {
     "cellMetadata": {
      "byteLimit": 2048000,
      "rowLimit": 10000
     },
     "inputWidgets": {},
     "nuid": "00b58778-947b-40c6-8be3-ab35d16ccfd9",
     "showTitle": false,
     "tableResultSettingsMap": {},
     "title": ""
    }
   },
   "source": [
    "#### Question 4: Predictive Modeling - Prediction Analysis"
   ]
  },
  {
   "cell_type": "code",
   "execution_count": 22,
   "metadata": {
    "application/vnd.databricks.v1+cell": {
     "cellMetadata": {
      "byteLimit": 2048000,
      "rowLimit": 10000
     },
     "inputWidgets": {},
     "nuid": "d172f4b1-a088-46ac-9d95-f146761a7fe6",
     "showTitle": false,
     "tableResultSettingsMap": {},
     "title": ""
    }
   },
   "outputs": [],
   "source": [
    "df_curry  = pd.read_excel(file_path, sheet_name=\"Curry\")"
   ]
  },
  {
   "cell_type": "markdown",
   "metadata": {
    "application/vnd.databricks.v1+cell": {
     "cellMetadata": {
      "byteLimit": 2048000,
      "rowLimit": 10000
     },
     "inputWidgets": {},
     "nuid": "6a1538ca-222f-4787-957d-0a3cbafd267b",
     "showTitle": false,
     "tableResultSettingsMap": {},
     "title": ""
    }
   },
   "source": [
    "##### Part a: Building the model"
   ]
  },
  {
   "cell_type": "code",
   "execution_count": 24,
   "metadata": {
    "application/vnd.databricks.v1+cell": {
     "cellMetadata": {
      "byteLimit": 2048000,
      "rowLimit": 10000
     },
     "inputWidgets": {},
     "nuid": "9544e8a8-b65c-453c-a3aa-e899dd9b91db",
     "showTitle": false,
     "tableResultSettingsMap": {},
     "title": ""
    }
   },
   "outputs": [
    {
     "name": "stdout",
     "output_type": "stream",
     "text": [
      "The linear regression model is: Sales = (50.268 x Ad_Budget) + (-80.996 x Price) + (-9.296 x Distance) + (-510.468 x Country_CA) + (510.468 x Country_US) + (1102.179629)\n",
      "R-squared value: 0.99044\n"
     ]
    }
   ],
   "source": [
    "features_curry  = df_curry.columns[2:].tolist()\n",
    "\n",
    "#converting categorical columns to dummy variables\n",
    "df_curry    = to_cat(df_curry)"
   ]
  },
  {
   "cell_type": "code",
   "execution_count": 25,
   "metadata": {
    "application/vnd.databricks.v1+cell": {
     "cellMetadata": {
      "byteLimit": 2048000,
      "rowLimit": 10000
     },
     "inputWidgets": {},
     "nuid": "c124b54a-aec4-4b1e-91bc-cc129bbc39e1",
     "showTitle": false,
     "tableResultSettingsMap": {},
     "title": ""
    }
   },
   "outputs": [
    {
     "name": "stdout",
     "output_type": "stream",
     "text": [
      "                            OLS Regression Results                            \n",
      "==============================================================================\n",
      "Dep. Variable:                  Sales   R-squared:                       0.990\n",
      "Model:                            OLS   Adj. R-squared:                  0.990\n",
      "Method:                 Least Squares   F-statistic:                     5049.\n",
      "Date:                Fri, 21 Mar 2025   Prob (F-statistic):          1.25e-195\n",
      "Time:                        15:35:39   Log-Likelihood:                -1527.8\n",
      "No. Observations:                 200   AIC:                             3066.\n",
      "Df Residuals:                     195   BIC:                             3082.\n",
      "Df Model:                           4                                         \n",
      "Covariance Type:            nonrobust                                         \n",
      "==============================================================================\n",
      "                 coef    std err          t      P>|t|      [0.025      0.975]\n",
      "------------------------------------------------------------------------------\n",
      "Intercept    734.7864    154.398      4.759      0.000     430.282    1039.290\n",
      "Ad_Budget     50.2680      0.360    139.732      0.000      49.558      50.977\n",
      "Price        -80.9961     16.755     -4.834      0.000    -114.041     -47.951\n",
      "Distance      -9.2960      6.090     -1.527      0.128     -21.306       2.714\n",
      "Country_CA  -143.0743     87.149     -1.642      0.102    -314.950      28.801\n",
      "Country_US   877.8607     86.042     10.203      0.000     708.169    1047.553\n",
      "==============================================================================\n",
      "Omnibus:                        0.629   Durbin-Watson:                   1.887\n",
      "Prob(Omnibus):                  0.730   Jarque-Bera (JB):                0.496\n",
      "Skew:                           0.121   Prob(JB):                        0.780\n",
      "Kurtosis:                       3.031   Cond. No.                     3.88e+18\n",
      "==============================================================================\n",
      "\n",
      "Notes:\n",
      "[1] Standard Errors assume that the covariance matrix of the errors is correctly specified.\n",
      "[2] The smallest eigenvalue is 1.4e-30. This might indicate that there are\n",
      "strong multicollinearity problems or that the design matrix is singular.\n",
      "0.9904372266304324\n"
     ]
    }
   ],
   "source": [
    "df_curry    = to_cat(df_curry)\n",
    "model       = ols(f\"Sales ~ \" + \" + \".join(features_curry), data=df_curry)\n",
    "model       = model.fit()\n",
    "\n",
    "print(model.summary())\n",
    "\n",
    "print(model.rsquared)"
   ]
  },
  {
   "cell_type": "code",
   "execution_count": 26,
   "metadata": {
    "application/vnd.databricks.v1+cell": {
     "cellMetadata": {
      "byteLimit": 2048000,
      "rowLimit": 10000
     },
     "inputWidgets": {},
     "nuid": "26fdc10d-20fb-429e-ba8e-ae2f1b77254b",
     "showTitle": false,
     "tableResultSettingsMap": {},
     "title": ""
    }
   },
   "outputs": [
    {
     "name": "stdout",
     "output_type": "stream",
     "text": [
      "The linear regression model for is: Sales = (734.79 x Ad_Budget) + (50.27 x Price) + (-81.00 x Distance) + (-9.30 x Country_CA) + (-143.07 x Country_US) + (734.79)\n",
      "R-squared value: 0.99044\n"
     ]
    }
   ],
   "source": [
    "#Building the model equation\n",
    "coeffs             = model.params\n",
    "intercept          = model.params[0]\n",
    "\n",
    "equation = \"\"\n",
    "for coef, feat in zip(model.params, features_curry):\n",
    "    equation += f\"({coef:.2f} x {feat}) + \"\n",
    "\n",
    "print(f\"The linear regression model for is: Sales = {equation}({model.params[0]:.2f})\")\n",
    "print(f\"R-squared value: {model.rsquared:.5f}\")\n"
   ]
  },
  {
   "cell_type": "markdown",
   "metadata": {
    "application/vnd.databricks.v1+cell": {
     "cellMetadata": {},
     "inputWidgets": {},
     "nuid": "d9b8fe21-0979-4b7e-9368-2c51e5ce76cd",
     "showTitle": false,
     "tableResultSettingsMap": {},
     "title": ""
    }
   },
   "source": [
    "**Process of Model Building**\n",
    "1. Converted the string/object column into respective category columns with dummy variables\n",
    "2. Performed linear regression on the new DataFrame (with the updated dummy variable columns) using `ols.fit()`\n",
    "3. Checkkd the p-value of the different features and removed distance (p-value>0.05) as it doesn't have significant effect on the model, the R-squared value doesn't change significantly either and is still close to 1\n",
    "| Comparison | Model with Distance | Model without Distance  |\n",
    "|--------------------|--------------------|-------------|\n",
    "| R-Squared  |0.990437 | 0.9903229 |\n",
    "\n",
    "4. Extracted the coefficients from the model to build the equation\n",
    "\n",
    "**Model**\n",
    "The linear reression model satisfying the curry data is:\n",
    ">*(734.79 x Ad_Budget) + (50.27 x Price) + (-81.00 x Distance) + (-9.30 x Country_CA) + (-143.07 x Country_US) + (734.79)*"
   ]
  },
  {
   "cell_type": "markdown",
   "metadata": {
    "application/vnd.databricks.v1+cell": {
     "cellMetadata": {},
     "inputWidgets": {},
     "nuid": "15728652-016b-434b-9bfd-9be1e77a83d1",
     "showTitle": false,
     "tableResultSettingsMap": {},
     "title": ""
    }
   },
   "source": [
    "##### Part b: Most Powerful Test: Wald Test"
   ]
  },
  {
   "cell_type": "code",
   "execution_count": 39,
   "metadata": {
    "application/vnd.databricks.v1+cell": {
     "cellMetadata": {
      "byteLimit": 2048000,
      "rowLimit": 10000
     },
     "inputWidgets": {},
     "nuid": "37a2f220-f40b-48a7-9d03-bc8fd5bcff18",
     "showTitle": false,
     "tableResultSettingsMap": {},
     "title": ""
    }
   },
   "outputs": [
    {
     "name": "stdout",
     "output_type": "stream",
     "text": [
      "                            OLS Regression Results                            \n",
      "==============================================================================\n",
      "Dep. Variable:                  Sales   R-squared:                       0.990\n",
      "Model:                            OLS   Adj. R-squared:                  0.990\n",
      "Method:                 Least Squares   F-statistic:                     4036.\n",
      "Date:                Fri, 21 Mar 2025   Prob (F-statistic):          6.26e-194\n",
      "Time:                        15:55:22   Log-Likelihood:                -1527.3\n",
      "No. Observations:                 200   AIC:                             3067.\n",
      "Df Residuals:                     194   BIC:                             3086.\n",
      "Df Model:                           5                                         \n",
      "Covariance Type:            nonrobust                                         \n",
      "========================================================================================\n",
      "                           coef    std err          t      P>|t|      [0.025      0.975]\n",
      "----------------------------------------------------------------------------------------\n",
      "Intercept              711.1033    156.657      4.539      0.000     402.134    1020.073\n",
      "Ad_Budget               33.6173      0.267    126.130      0.000      33.092      34.143\n",
      "Price                  -82.1009     16.807     -4.885      0.000    -115.249     -48.953\n",
      "Distance                -9.1723      6.094     -1.505      0.134     -21.191       2.846\n",
      "Country_CA            -264.0760    159.316     -1.658      0.099    -578.289      50.137\n",
      "Country_US             975.1792    137.517      7.091      0.000     703.960    1246.399\n",
      "Ad_Budget:Country_US    16.4451      0.363     45.305      0.000      15.729      17.161\n",
      "Ad_Budget:Country_CA    17.1722      0.474     36.223      0.000      16.237      18.107\n",
      "==============================================================================\n",
      "Omnibus:                        0.652   Durbin-Watson:                   1.872\n",
      "Prob(Omnibus):                  0.722   Jarque-Bera (JB):                0.501\n",
      "Skew:                           0.121   Prob(JB):                        0.778\n",
      "Kurtosis:                       3.043   Cond. No.                     4.31e+18\n",
      "==============================================================================\n",
      "\n",
      "Notes:\n",
      "[1] Standard Errors assume that the covariance matrix of the errors is correctly specified.\n",
      "[2] The smallest eigenvalue is 1.84e-30. This might indicate that there are\n",
      "strong multicollinearity problems or that the design matrix is singular.\n"
     ]
    }
   ],
   "source": [
    "#Perform linear regression using ols\n",
    "#Using new columns to interact Ad_Budget & Country_US and Ad_Budget & Country_CA\n",
    "model   = ols('Sales ~ Ad_Budget + Price + Distance + Country_CA + Country_US + Ad_Budget:Country_US + Ad_Budget:Country_CA', data=df_curry)\n",
    "model   = model.fit()\n",
    "print(model.summary())"
   ]
  },
  {
   "cell_type": "code",
   "execution_count": 40,
   "metadata": {
    "application/vnd.databricks.v1+cell": {
     "cellMetadata": {
      "byteLimit": 2048000,
      "rowLimit": 10000
     },
     "inputWidgets": {},
     "nuid": "8b7949ca-1f64-48bc-bce9-3f0c3320abb0",
     "showTitle": false,
     "tableResultSettingsMap": {},
     "title": ""
    }
   },
   "outputs": [
    {
     "name": "stdout",
     "output_type": "stream",
     "text": [
      "<F test: F=array([[9754.07732557]]), p=2.2332461924764413e-195, df_denom=194, df_num=2>\n"
     ]
    }
   ],
   "source": [
    "#Perform Hypothesis Testing using the Wald Test\n",
    "hypothesis  = '(Ad_Budget:Country_US=0, Ad_Budget:Country_CA=0)'\n",
    "\n",
    "#print(model.wald_test(hypothesis, scalar=True))\n",
    "print(model.wald_test(hypothesis))"
   ]
  },
  {
   "cell_type": "markdown",
   "metadata": {
    "application/vnd.databricks.v1+cell": {
     "cellMetadata": {},
     "inputWidgets": {},
     "nuid": "6c49921d-dde2-4406-9e3b-08e6bec75762",
     "showTitle": false,
     "tableResultSettingsMap": {},
     "title": ""
    }
   },
   "source": [
    "**Hypothesis Test: Wald Test**\n",
    "  > *Assume 95% confidence interval for testing*\n",
    "\n",
    "1. This is the strongest test to use in this scenario where we are trying to find the significance of impact of individual features on the dependent variable\n",
    "2. Problem Statement: As Ad Budget increases, the sales for the US consumers increase more than they do for Canadian consumers.\n",
    "3. As a correlation between Ad Budget and Consumers is to be determined, we need to create a new columns that measure the interaction between both those parameters (Ad_Budget * Country_US and Ad_Budget * Country_CA)\n",
    "4. Since the wald test is conducted using the `ols` library, it is important to fit the model using the ols method as well \n",
    "\n",
    "Once we have the linear regression model, we define the features we want to conduct the test on (in our case it is Canadian vs American consumers' response to the Budget, therefore we use new columns: `Ad_Budget:Country_US`  `Ad_Budget:Country_CA`\n",
    "1. ***Null Hypothesis:*** US consumers **do not** respond more to the changes in Ad_Budget than Canadian consumers\n",
    "2. ***Alternate Hypothesis:*** US consumers **do** respond more to the changes in Ad_Budget than Canadian consumers\n",
    "3. ***p-value:*** $2.233\\times 10^{-195}$ (which is lower than 0.05) therefore we **reject the null hypothesis**. This tells us that US consumers do respond more to the Ad budget changes than Canadian consumers."
   ]
  },
  {
   "cell_type": "markdown",
   "metadata": {
    "application/vnd.databricks.v1+cell": {
     "cellMetadata": {},
     "inputWidgets": {},
     "nuid": "987946ce-38ca-4c39-a1a6-db46efe7f041",
     "showTitle": false,
     "tableResultSettingsMap": {},
     "title": ""
    }
   },
   "source": [
    "##### Part c: Chow Test"
   ]
  },
  {
   "cell_type": "code",
   "execution_count": 29,
   "metadata": {
    "application/vnd.databricks.v1+cell": {
     "cellMetadata": {
      "byteLimit": 2048000,
      "rowLimit": 10000
     },
     "inputWidgets": {},
     "nuid": "5dcee56f-425e-444b-8241-ef8a014f6fd1",
     "showTitle": false,
     "tableResultSettingsMap": {},
     "title": ""
    }
   },
   "outputs": [],
   "source": [
    "df_curry  = pd.read_excel(file_path, sheet_name=\"Curry\")"
   ]
  },
  {
   "cell_type": "code",
   "execution_count": 30,
   "metadata": {
    "application/vnd.databricks.v1+cell": {
     "cellMetadata": {
      "byteLimit": 2048000,
      "rowLimit": 10000
     },
     "inputWidgets": {},
     "nuid": "8f6ac029-1d3b-416d-8bd8-77410c843de6",
     "showTitle": false,
     "tableResultSettingsMap": {},
     "title": ""
    }
   },
   "outputs": [],
   "source": [
    "# Creating chow test Columns\n",
    "df_curry['C_Obs']       = np.where(df_curry['Country'] == 'US', 1, 0)\n",
    "df_curry['C_Ad_budget'] = df_curry['C_Obs']*df_curry['Ad_Budget']\n",
    "df_curry['C_Price']     = df_curry['C_Obs']*df_curry['Price']\n",
    "df_curry['C_Distance']  = df_curry['C_Obs']*df_curry['Distance']"
   ]
  },
  {
   "cell_type": "code",
   "execution_count": 31,
   "metadata": {
    "application/vnd.databricks.v1+cell": {
     "cellMetadata": {
      "byteLimit": 2048000,
      "rowLimit": 10000
     },
     "inputWidgets": {},
     "nuid": "cf28ee13-9a52-4d18-9627-f7edc4f35104",
     "showTitle": false,
     "tableResultSettingsMap": {},
     "title": ""
    }
   },
   "outputs": [
    {
     "data": {
      "text/html": [
       "<div>\n",
       "<style scoped>\n",
       "    .dataframe tbody tr th:only-of-type {\n",
       "        vertical-align: middle;\n",
       "    }\n",
       "\n",
       "    .dataframe tbody tr th {\n",
       "        vertical-align: top;\n",
       "    }\n",
       "\n",
       "    .dataframe thead th {\n",
       "        text-align: right;\n",
       "    }\n",
       "</style>\n",
       "<table border=\"1\" class=\"dataframe\">\n",
       "  <thead>\n",
       "    <tr style=\"text-align: right;\">\n",
       "      <th></th>\n",
       "      <th>Obs</th>\n",
       "      <th>Sales</th>\n",
       "      <th>Ad_Budget</th>\n",
       "      <th>Price</th>\n",
       "      <th>Distance</th>\n",
       "      <th>Country</th>\n",
       "      <th>C_Obs</th>\n",
       "      <th>C_Ad_budget</th>\n",
       "      <th>C_Price</th>\n",
       "      <th>C_Distance</th>\n",
       "    </tr>\n",
       "  </thead>\n",
       "  <tbody>\n",
       "    <tr>\n",
       "      <th>0</th>\n",
       "      <td>1</td>\n",
       "      <td>19103.638801</td>\n",
       "      <td>362.86</td>\n",
       "      <td>11.68</td>\n",
       "      <td>6</td>\n",
       "      <td>US</td>\n",
       "      <td>1</td>\n",
       "      <td>362.86</td>\n",
       "      <td>11.68</td>\n",
       "      <td>6</td>\n",
       "    </tr>\n",
       "    <tr>\n",
       "      <th>1</th>\n",
       "      <td>2</td>\n",
       "      <td>4255.801105</td>\n",
       "      <td>75.25</td>\n",
       "      <td>9.42</td>\n",
       "      <td>20</td>\n",
       "      <td>US</td>\n",
       "      <td>1</td>\n",
       "      <td>75.25</td>\n",
       "      <td>9.42</td>\n",
       "      <td>20</td>\n",
       "    </tr>\n",
       "    <tr>\n",
       "      <th>2</th>\n",
       "      <td>3</td>\n",
       "      <td>20508.337436</td>\n",
       "      <td>396.63</td>\n",
       "      <td>6.68</td>\n",
       "      <td>21</td>\n",
       "      <td>US</td>\n",
       "      <td>1</td>\n",
       "      <td>396.63</td>\n",
       "      <td>6.68</td>\n",
       "      <td>21</td>\n",
       "    </tr>\n",
       "    <tr>\n",
       "      <th>3</th>\n",
       "      <td>4</td>\n",
       "      <td>18261.580790</td>\n",
       "      <td>356.56</td>\n",
       "      <td>9.61</td>\n",
       "      <td>18</td>\n",
       "      <td>US</td>\n",
       "      <td>1</td>\n",
       "      <td>356.56</td>\n",
       "      <td>9.61</td>\n",
       "      <td>18</td>\n",
       "    </tr>\n",
       "    <tr>\n",
       "      <th>4</th>\n",
       "      <td>5</td>\n",
       "      <td>17401.910809</td>\n",
       "      <td>321.13</td>\n",
       "      <td>9.56</td>\n",
       "      <td>24</td>\n",
       "      <td>US</td>\n",
       "      <td>1</td>\n",
       "      <td>321.13</td>\n",
       "      <td>9.56</td>\n",
       "      <td>24</td>\n",
       "    </tr>\n",
       "  </tbody>\n",
       "</table>\n",
       "</div>"
      ],
      "text/plain": [
       "   Obs         Sales  Ad_Budget  Price  Distance Country  C_Obs  C_Ad_budget  \\\n",
       "0    1  19103.638801     362.86  11.68         6      US      1       362.86   \n",
       "1    2   4255.801105      75.25   9.42        20      US      1        75.25   \n",
       "2    3  20508.337436     396.63   6.68        21      US      1       396.63   \n",
       "3    4  18261.580790     356.56   9.61        18      US      1       356.56   \n",
       "4    5  17401.910809     321.13   9.56        24      US      1       321.13   \n",
       "\n",
       "   C_Price  C_Distance  \n",
       "0    11.68           6  \n",
       "1     9.42          20  \n",
       "2     6.68          21  \n",
       "3     9.61          18  \n",
       "4     9.56          24  "
      ]
     },
     "execution_count": 31,
     "metadata": {},
     "output_type": "execute_result"
    }
   ],
   "source": [
    "df_curry.head()"
   ]
  },
  {
   "cell_type": "code",
   "execution_count": 32,
   "metadata": {
    "application/vnd.databricks.v1+cell": {
     "cellMetadata": {
      "byteLimit": 2048000,
      "rowLimit": 10000
     },
     "inputWidgets": {},
     "nuid": "271179fa-4c2d-4a58-a8bc-646b4a49bfcf",
     "showTitle": false,
     "tableResultSettingsMap": {},
     "title": ""
    }
   },
   "outputs": [
    {
     "name": "stdout",
     "output_type": "stream",
     "text": [
      "                            OLS Regression Results                            \n",
      "==============================================================================\n",
      "Dep. Variable:                  Sales   R-squared:                       0.991\n",
      "Model:                            OLS   Adj. R-squared:                  0.990\n",
      "Method:                 Least Squares   F-statistic:                     2876.\n",
      "Date:                Fri, 21 Mar 2025   Prob (F-statistic):          1.17e-190\n",
      "Time:                        15:35:40   Log-Likelihood:                -1526.5\n",
      "No. Observations:                 200   AIC:                             3069.\n",
      "Df Residuals:                     192   BIC:                             3095.\n",
      "Df Model:                           7                                         \n",
      "Covariance Type:            nonrobust                                         \n",
      "====================================================================================\n",
      "                       coef    std err          t      P>|t|      [0.025      0.975]\n",
      "------------------------------------------------------------------------------------\n",
      "Intercept          125.0916    436.436      0.287      0.775    -735.734     985.917\n",
      "C(Country)[T.US]   849.6427    258.415      3.288      0.001     339.947    1359.339\n",
      "Ad_Budget           50.7430      0.684     74.221      0.000      49.395      52.091\n",
      "Price              -63.9849     36.749     -1.741      0.083    -136.468       8.498\n",
      "Distance             1.0555     11.431      0.092      0.927     -21.490      23.601\n",
      "C_Ad_budget         -0.6697      0.806     -0.831      0.407      -2.259       0.919\n",
      "C_Price            -25.0498     41.381     -0.605      0.546    -106.670      56.570\n",
      "C_Distance         -14.7448     13.534     -1.089      0.277     -41.440      11.950\n",
      "C_Obs              849.6427    258.415      3.288      0.001     339.947    1359.339\n",
      "==============================================================================\n",
      "Omnibus:                        0.953   Durbin-Watson:                   1.857\n",
      "Prob(Omnibus):                  0.621   Jarque-Bera (JB):                0.756\n",
      "Skew:                           0.147   Prob(JB):                        0.685\n",
      "Kurtosis:                       3.068   Cond. No.                     5.14e+18\n",
      "==============================================================================\n",
      "\n",
      "Notes:\n",
      "[1] Standard Errors assume that the covariance matrix of the errors is correctly specified.\n",
      "[2] The smallest eigenvalue is 1.27e-30. This might indicate that there are\n",
      "strong multicollinearity problems or that the design matrix is singular.\n"
     ]
    }
   ],
   "source": [
    "# Fitting the model with Chow test columns\n",
    "model = ols('Sales ~ Ad_Budget + Price + Distance + C(Country) + C_Ad_budget + C_Price + C_Distance + C_Obs', data=df_curry)\n",
    "model = model.fit()\n",
    "print(model.summary())"
   ]
  },
  {
   "cell_type": "code",
   "execution_count": 33,
   "metadata": {
    "application/vnd.databricks.v1+cell": {
     "cellMetadata": {
      "byteLimit": 2048000,
      "rowLimit": 10000
     },
     "inputWidgets": {},
     "nuid": "5373d6fa-daa1-422f-bab4-afb2fc4610ef",
     "showTitle": false,
     "tableResultSettingsMap": {},
     "title": ""
    }
   },
   "outputs": [
    {
     "name": "stdout",
     "output_type": "stream",
     "text": [
      "<F test: F=array([[42.7717247]]), p=1.261467379946044e-25, df_denom=192, df_num=4>\n"
     ]
    }
   ],
   "source": [
    "#Perform Hypothesis Testing using the Chow Test\n",
    "hypothesis  = '(C_Ad_budget=0, C_Price=0, C_Distance=0, C_Obs)'\n",
    "\n",
    "#print(model.wald_test(hypothesis, scalar=True))\n",
    "print(model.wald_test(hypothesis))"
   ]
  },
  {
   "cell_type": "markdown",
   "metadata": {
    "application/vnd.databricks.v1+cell": {
     "cellMetadata": {},
     "inputWidgets": {},
     "nuid": "1258488c-481f-47b3-b48e-8aeaaf3bc4e5",
     "showTitle": false,
     "tableResultSettingsMap": {},
     "title": ""
    }
   },
   "source": [
    "**Hypothesis Test: Chow Test**\n",
    "  > *Assume 95% confidence interval for testing*\n",
    "\n",
    "1. We use the same model generated in the previous part b\n",
    "2. Our structural break/change is between US and Canadian consumers\n",
    "\n",
    "Once we have the linear regression model, we define the features we want to conduct the test on (in our case it is Canadian vs American consumers' response to the Budget, therefore we use columns: `Ad_Budget`  `Country_US`\n",
    "1. ***Null Hypothesis:*** US consumers and Canadian consumers **react the same way** to circumstances (same coefficients)\n",
    "2. ***Alternate Hypothesis:*** US consumers **do not react the same way** to circumstances (not the same coefficients)\n",
    "3. ***p-value:*** $1.2615\\times 10^{-25}$ (which is lower than 0.05) therefore we **reject the null hypothesis**. This tell us that US consumers and Canadian consumers do not respond to circumstances the same way"
   ]
  },
  {
   "cell_type": "markdown",
   "metadata": {},
   "source": [
    "**Comparison: Wald Test vs Chow Test**\n",
    "\n",
    "| Aspect | Wald Test | Chow Test |\n",
    "|:--------------------|:--------------------|:-------------|\n",
    "| Conclusion | US consumers respond more to Budget than Canadian | US consumers do not respond the same way to circumstances |\n",
    "|Insight|Wald test specifically tested for interaction between specified paramters|Tests the response of all parameters on structure change|\n",
    "\n",
    "Even though at face value both conclusions appear similar, there is a difference between what was actually tested. Wald test concludes that Canadians and Americans react differently but it only accounts for with respect to the budget. While Chow test concluded the same that Canadians and American react differently, it bases the analysis off all independent variables"
   ]
  },
  {
   "cell_type": "markdown",
   "metadata": {
    "application/vnd.databricks.v1+cell": {
     "cellMetadata": {},
     "inputWidgets": {},
     "nuid": "e7c88238-a4df-4cb8-9bc1-67582d842768",
     "showTitle": false,
     "tableResultSettingsMap": {},
     "title": ""
    }
   },
   "source": [
    "## Appendix"
   ]
  },
  {
   "cell_type": "markdown",
   "metadata": {
    "application/vnd.databricks.v1+cell": {
     "cellMetadata": {},
     "inputWidgets": {},
     "nuid": "fc2b3132-d3d8-4582-af4f-8fcf7a96977b",
     "showTitle": false,
     "tableResultSettingsMap": {},
     "title": ""
    }
   },
   "source": [
    "#### Question 4: Part b"
   ]
  },
  {
   "cell_type": "code",
   "execution_count": 34,
   "metadata": {
    "application/vnd.databricks.v1+cell": {
     "cellMetadata": {
      "byteLimit": 2048000,
      "rowLimit": 10000
     },
     "inputWidgets": {},
     "nuid": "813da73d-7c9c-48fc-a609-8d94e9742f12",
     "showTitle": false,
     "tableResultSettingsMap": {},
     "title": ""
    }
   },
   "outputs": [
    {
     "data": {
      "text/plain": [
       "Text(0.5, 1.0, 'Ad Budget vs Sales')"
      ]
     },
     "execution_count": 34,
     "metadata": {},
     "output_type": "execute_result"
    },
    {
     "data": {
      "image/png": "[encoded data removed]",
      "text/plain": [
       "<Figure size 1080x360 with 1 Axes>"
      ]
     },
     "metadata": {
      "needs_background": "light"
     },
     "output_type": "display_data"
    }
   ],
   "source": [
    "df_curry = to_cat(df_curry)\n",
    "\n",
    "df_us = df_curry[df_curry[\"Country_US\"] == 1]\n",
    "df_ca = df_curry[df_curry[\"Country_CA\"] == 1]\n",
    "\n",
    "x_axis_1 = df_us[\"Ad_Budget\"]\n",
    "y_axis_1 = df_us[\"Sales\"]\n",
    "\n",
    "x_axis_2 = df_ca[\"Ad_Budget\"]\n",
    "y_axis_2 = df_ca[\"Sales\"]\n",
    "\n",
    "plt.figure(figsize=(15,5))\n",
    "plt.grid(True, linestyle='--', alpha=0.7)\n",
    "        \n",
    "plt.plot(x_axis_1, y_axis_1, linewidth=1, color='green')\n",
    "plt.plot(x_axis_2, y_axis_2, linewidth=1, color='blue')\n",
    "plt.xlabel(\"Ad Budget\")\n",
    "plt.ylabel(\"Sales\")\n",
    "\n",
    "plt.legend([\"US\", \"CA\"])\n",
    "plt.title(\"Ad Budget vs Sales\")"
   ]
  },
  {
   "cell_type": "markdown",
   "metadata": {
    "application/vnd.databricks.v1+cell": {
     "cellMetadata": {},
     "inputWidgets": {},
     "nuid": "3eb291cd-31a2-478f-86d0-6a8a4b828e3f",
     "showTitle": false,
     "tableResultSettingsMap": {},
     "title": ""
    }
   },
   "source": [
    "We can see in the graph above that for the same Budget value, US consumers have higher sales than Candian consumers, thus corroborating out findins of the Wald test in part b."
   ]
  }
 ],
 "metadata": {
  "application/vnd.databricks.v1+notebook": {
   "computePreferences": null,
   "dashboards": [],
   "environmentMetadata": {
    "base_environment": "",
    "environment_version": "2"
   },
   "language": "python",
   "notebookMetadata": {
    "pythonIndentUnit": 4
   },
   "notebookName": "Team Istanbul - Assignment 2",
   "widgets": {}
  },
  "kernelspec": {
   "display_name": "Python 3 (ipykernel)",
   "language": "python",
   "name": "python3"
  },
  "language_info": {
   "codemirror_mode": {
    "name": "ipython",
    "version": 3
   },
   "file_extension": ".py",
   "mimetype": "text/x-python",
   "name": "python",
   "nbconvert_exporter": "python",
   "pygments_lexer": "ipython3",
   "version": "3.9.7"
  }
 },
 "nbformat": 4,
 "nbformat_minor": 1
}
